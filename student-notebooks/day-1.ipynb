{
 "metadata": {},
 "nbformat": 3,
 "nbformat_minor": 0,
 "worksheets": [
  {
   "cells": [
    {
     "cell_type": "markdown",
     "metadata": {},
     "source": [
      "<br>\n",
      "<img style=\"float:left\" src=\"http://ipython.org/_static/IPy_header.png\" />\n",
      "<br>"
     ]
    },
    {
     "cell_type": "heading",
     "level": 1,
     "metadata": {},
     "source": [
      "Session 1: Orientation"
     ]
    },
    {
     "cell_type": "markdown",
     "metadata": {},
     "source": [
      "<br>\n",
      "Welcome to the *IPython Notebook*. Through this interface, you'll be learning a lot of things:\n",
      "\n",
      "* A Programming language: **Python**\n",
      "* A Python library: **NLTK**\n",
      "* Overlapping research areas: **Corpus linguistics**, **Natural language processing**, **Distant reading**\n",
      "* Additional skills: **Regular Expressions**, some **Shell commands**, and **tips on managing your data**\n",
      "\n",
      "You can head [here](https://github.com/resbaz/lessons/blob/master/nltk/README.md) for the fully articulated overview of the course, but we'll almost always stay within IPython. \n",
      "Remember, everything we cover here will remain available to you after ResBaz is over, including these Notebooks. It's all accessible at the [ResBaz GitHub](https://github.com/resbaz/lessons/tree/master/nltk).\n",
      "\n",
      "**Any questions before we begin?**\n",
      "\n",
      "Alright, we're off!"
     ]
    },
    {
     "cell_type": "heading",
     "level": 2,
     "metadata": {},
     "source": [
      "Text as data"
     ]
    },
    {
     "cell_type": "markdown",
     "metadata": {},
     "source": [
      "Programming languages like Python are great for processing data. In order to apply it to *text*, we need to think about our text as data.\n",
      "This means being aware of how text is structured, what extra information might be encoded in it, and how to manage to give the best results. "
     ]
    },
    {
     "cell_type": "heading",
     "level": 2,
     "metadata": {},
     "source": [
      "What is the Natural Language Toolkit?"
     ]
    },
    {
     "cell_type": "markdown",
     "metadata": {},
     "source": [
      "<br>\n",
      "We'll be covering some of the theory behind corpus linguistics later on, but let's start by looking at some of the tasks NLTK can help you with. "
     ]
    },
    {
     "cell_type": "markdown",
     "metadata": {},
     "source": [
      "NLTK is a Python Library for working with written language data. It is free and extensively documented. Many areas we'll be covering are treated in more detail in the NLTK Book, available free online from [here](http://www.nltk.org/book/).\n",
      "\n",
      "> Note: NLTK provides tools for tasks ranging from very simple (counting words in a text) to very complex (writing and training parsers, etc.). Many advanced tasks are beyond the scope of this course, but by the time we're done, you should understand Python and NLTK well enough to perform these tasks on your own!\n",
      "\n",
      "We will start by importing NLTK, setting a path to NLTK resources, and downloading some additional stuff."
     ]
    },
    {
     "cell_type": "code",
     "collapsed": false,
     "input": [
      "import nltk # imports all the nltk basics\n",
      "user_nltk_dir = \"/home/researcher/nltk_data\" # specify our data directory\n",
      "if user_nltk_dir not in nltk.data.path: # make sure nltk can access this dir\n",
      "    nltk.data.path.insert(0, user_nltk_dir)\n",
      "nltk.download(\"book\", download_dir=user_nltk_dir) # download book materials to data directory"
     ],
     "language": "python",
     "metadata": {},
     "outputs": []
    },
    {
     "cell_type": "markdown",
     "metadata": {},
     "source": [
      "Oh, we've got to import some corpora used in the book as well..."
     ]
    },
    {
     "cell_type": "code",
     "collapsed": false,
     "input": [
      ""
     ],
     "language": "python",
     "metadata": {},
     "outputs": []
    },
    {
     "cell_type": "markdown",
     "metadata": {},
     "source": [
      "Importing the book has assigned variable names to ten corpora. We can call these names easily: "
     ]
    },
    {
     "cell_type": "code",
     "collapsed": false,
     "input": [
      ""
     ],
     "language": "python",
     "metadata": {},
     "outputs": []
    },
    {
     "cell_type": "heading",
     "level": 3,
     "metadata": {},
     "source": [
      "Exploring vocabulary"
     ]
    },
    {
     "cell_type": "markdown",
     "metadata": {},
     "source": [
      "NLTK makes it really easy to get basic information about the size of a text and the complexity of its vocabulary.\n",
      "\n",
      "*len()* gives the number of symbols or 'tokens' in your text. This is the total number of words and items of punctuation.\n",
      "\n",
      "*set()* gives you a list of all the tokens in the text, without the duplicates.\n",
      "\n",
      "Hence, **len(set(text3))** will give you the total number unique tokens. Remember this still includes punctuation. \n",
      "\n",
      "*sorted()* places items in the list into alphabetical order, with punctuation symbols and capitalised words first."
     ]
    },
    {
     "cell_type": "code",
     "collapsed": false,
     "input": [
      ""
     ],
     "language": "python",
     "metadata": {},
     "outputs": []
    },
    {
     "cell_type": "code",
     "collapsed": false,
     "input": [
      ""
     ],
     "language": "python",
     "metadata": {},
     "outputs": []
    },
    {
     "cell_type": "code",
     "collapsed": false,
     "input": [
      ""
     ],
     "language": "python",
     "metadata": {},
     "outputs": []
    },
    {
     "cell_type": "markdown",
     "metadata": {},
     "source": [
      "We can investigate the *lexical richness* of a text. For example, by dividing the total number of words by the number of unique words, we can see the average number of times each word is used. \n",
      "We can also count the number of times a word is used and calculate what percentage of the text it represents."
     ]
    },
    {
     "cell_type": "code",
     "collapsed": false,
     "input": [
      ""
     ],
     "language": "python",
     "metadata": {},
     "outputs": []
    },
    {
     "cell_type": "code",
     "collapsed": false,
     "input": [
      ""
     ],
     "language": "python",
     "metadata": {},
     "outputs": []
    },
    {
     "cell_type": "markdown",
     "metadata": {},
     "source": [
      "**Challenge!** \n",
      "\n",
      "How would you calculate the percentage of Text 4 that is taken up by the word \"America\"?"
     ]
    },
    {
     "cell_type": "code",
     "collapsed": false,
     "input": [
      ""
     ],
     "language": "python",
     "metadata": {},
     "outputs": []
    },
    {
     "cell_type": "heading",
     "level": 3,
     "metadata": {},
     "source": [
      "Exploring text - concordances, similar contexts, dispersion"
     ]
    },
    {
     "cell_type": "markdown",
     "metadata": {},
     "source": [
      "'Concordance' shows you a word in context and is useful if you want to be able to discuss the ways in which a word is used in a text. \n",
      "'Similar' will find words used in similar contexts; remember it is not looking for synonyms, \n",
      "although the results may include synonyms"
     ]
    },
    {
     "cell_type": "code",
     "collapsed": false,
     "input": [
      ""
     ],
     "language": "python",
     "metadata": {},
     "outputs": []
    },
    {
     "cell_type": "code",
     "collapsed": false,
     "input": [
      ""
     ],
     "language": "python",
     "metadata": {},
     "outputs": []
    },
    {
     "cell_type": "code",
     "collapsed": false,
     "input": [
      ""
     ],
     "language": "python",
     "metadata": {},
     "outputs": []
    },
    {
     "cell_type": "code",
     "collapsed": false,
     "input": [
      "text2.common_contexts([\"monstrous\", \"very\"])  # this function takes two arguments"
     ],
     "language": "python",
     "metadata": {},
     "outputs": []
    },
    {
     "cell_type": "markdown",
     "metadata": {},
     "source": [
      "Python also lets you create graphs to display data.\n",
      "To represent information about a text graphically, import the Python library *numpy*. We can then generate a dispersion plot that shows where given words occur in a text."
     ]
    },
    {
     "cell_type": "code",
     "collapsed": false,
     "input": [
      "import numpy\n",
      "% matplotlib inline # allow visuals to show up in this interface---see note below\n",
      "# create a dispersion plot here"
     ],
     "language": "python",
     "metadata": {},
     "outputs": []
    },
    {
     "cell_type": "markdown",
     "metadata": {},
     "source": [
      "**Challenge!**\n",
      "<br>\n",
      "Create a dispersion plot for the terms \"citizens\", \"democracy\", \"freedom\", \"duties\" and \"America\" in the innaugural address corpus.\n",
      "What do you think it tells you? "
     ]
    },
    {
     "cell_type": "code",
     "collapsed": false,
     "input": [
      ""
     ],
     "language": "python",
     "metadata": {},
     "outputs": []
    },
    {
     "cell_type": "heading",
     "level": 2,
     "metadata": {},
     "source": [
      "How Python works"
     ]
    },
    {
     "cell_type": "markdown",
     "metadata": {},
     "source": [
      "We've seen a bit now of how NLTK can help you to interrogate a text. Let's back up and talk about Python itself and the environment we're using."
     ]
    },
    {
     "cell_type": "code",
     "collapsed": false,
     "input": [
      "# A simple welcome message printer.\n",
      "# Anything after a hash is ignored\n",
      "# Run a cell with shift+enter\n",
      "\n",
      "\n"
     ],
     "language": "python",
     "metadata": {},
     "outputs": []
    },
    {
     "cell_type": "markdown",
     "metadata": {},
     "source": [
      "Success! *And so it begins ... *"
     ]
    },
    {
     "cell_type": "heading",
     "level": 2,
     "metadata": {},
     "source": [
      "The IPython Notebook"
     ]
    },
    {
     "cell_type": "markdown",
     "metadata": {},
     "source": [
      "Before we start coding, we should familiarise ourselves with the IPython Notebook interface. Click *Help* --\\> *User interface tour* to begin.\n",
      "<br>\n",
      "Keyboard shortcuts come in very handy. Click *Help* --\\> *Keyboard shortcuts* to get an overview. *The more you code, the less you'll want to use your mouse!*"
     ]
    },
    {
     "cell_type": "heading",
     "level": 2,
     "metadata": {},
     "source": [
      "Python: core concepts"
     ]
    },
    {
     "cell_type": "markdown",
     "metadata": {},
     "source": [
      "If you're new to Python, there are a few core concepts that will help you understand how everything works. Here, we'll cover:\n",
      "\n",
      "* Significant whitespace\n",
      "* Input/output types\n",
      "* Commands and arguments\n",
      "* Defining functions\n",
      "* Importing libraries, functions, etc."
     ]
    },
    {
     "cell_type": "heading",
     "level": 3,
     "metadata": {},
     "source": [
      "Significant Whitespace"
     ]
    },
    {
     "cell_type": "markdown",
     "metadata": {},
     "source": [
      "One thing that makes Python unique is that whitespace at the start of the line (use a tab for consistency!) is meaningful. \n",
      "In many other languages, whitespace at the start of lines is simply a readability convention."
     ]
    },
    {
     "cell_type": "code",
     "collapsed": false,
     "input": [
      "# Fix this whitespace problem!\n",
      "\n",
      "string = 'user'\n",
      "if string == 'user':\n",
      "print 'Phew, fixed.'"
     ],
     "language": "python",
     "metadata": {},
     "outputs": []
    },
    {
     "cell_type": "markdown",
     "metadata": {},
     "source": [
      "So, whitespace tells both Python and human readers where things start and stop. You should be able to get different kinds of output depending on how you indent the code below."
     ]
    },
    {
     "cell_type": "code",
     "collapsed": false,
     "input": [
      "# \\n means 'newline character'---i.e. print a line break\n",
      "print 'Python\\nis\\n'\n",
      "for i in ['very', 'really', 'truly']:  # repeat three times, quite arbitrarily\n",
      "    print i + '\\n'\n",
      "    if i is 'truly':  # nested conditional\n",
      "        print 'interesting!'\n",
      "    else:\n",
      "        print 'complicated!'\n",
      " print 'day.'  # at present, this occurs after the three repetitions."
     ],
     "language": "python",
     "metadata": {},
     "outputs": []
    },
    {
     "cell_type": "heading",
     "level": 3,
     "metadata": {},
     "source": [
      "Input/Output Types"
     ]
    },
    {
     "cell_type": "markdown",
     "metadata": {},
     "source": [
      "* Python understands different *types* of input, including *string*, *unicode string*, *integer*, *item*, *tuple* and *dict*.\n",
      "* Different types of information behave in different ways, and the ways they are represented visually are different as well.\n",
      "* You need to always make sure your input types are correct, or Python won't know what to do with them.\n",
      "* For example, if you're trying to do maths, you'll want to be working with *integers*:"
     ]
    },
    {
     "cell_type": "code",
     "collapsed": false,
     "input": [
      ""
     ],
     "language": "python",
     "metadata": {},
     "outputs": []
    },
    {
     "cell_type": "code",
     "collapsed": false,
     "input": [
      ""
     ],
     "language": "python",
     "metadata": {},
     "outputs": []
    },
    {
     "cell_type": "markdown",
     "metadata": {},
     "source": [
      "Note the error message. These will help you to understand what went wrong. \n",
      "The first part looks like gobbledygook, but the rest is helpful. Line 3 of error tells us what command\n",
      "was executing when the error happened, which can assist in isolating a problem. The leading digit is the line number.\n",
      "Line 4 actually tells us what the error was - that's what we would have googled if we were looking for a solution."
     ]
    },
    {
     "cell_type": "markdown",
     "metadata": {},
     "source": [
      "You can determine the type of data stored in a variable with *type()*. Below are the most common types. Note how quotation marks, and brackets are used to distinguish between them when writing code."
     ]
    },
    {
     "cell_type": "code",
     "collapsed": false,
     "input": [
      ""
     ],
     "language": "python",
     "metadata": {},
     "outputs": []
    },
    {
     "cell_type": "markdown",
     "metadata": {},
     "source": [
      "Sometimes you can sometimes easily convert between types."
     ]
    },
    {
     "cell_type": "code",
     "collapsed": false,
     "input": [
      ""
     ],
     "language": "python",
     "metadata": {},
     "outputs": []
    },
    {
     "cell_type": "markdown",
     "metadata": {},
     "source": [
      "... and sometimes it's not so easy:"
     ]
    },
    {
     "cell_type": "code",
     "collapsed": false,
     "input": [
      ""
     ],
     "language": "python",
     "metadata": {},
     "outputs": []
    },
    {
     "cell_type": "heading",
     "level": 3,
     "metadata": {},
     "source": [
      "Basic syntax"
     ]
    },
    {
     "cell_type": "markdown",
     "metadata": {},
     "source": [
      "Python has *variables* and *commands*. Commands may have *arguments* and *options*.\n",
      "\n",
      "> IPython highlights your code automatically, which can help you read it faster and spot problems."
     ]
    },
    {
     "cell_type": "code",
     "collapsed": false,
     "input": [
      ""
     ],
     "language": "python",
     "metadata": {},
     "outputs": []
    },
    {
     "cell_type": "code",
     "collapsed": false,
     "input": [
      "# This example has two arguments\n",
      "\n"
     ],
     "language": "python",
     "metadata": {},
     "outputs": []
    },
    {
     "cell_type": "heading",
     "level": 2,
     "metadata": {},
     "source": [
      "Advantages of IPython"
     ]
    },
    {
     "cell_type": "markdown",
     "metadata": {},
     "source": [
      "So, we've been writing Python code in an IPython notebook. Why?\n",
      "\n",
      "1. The main strength of IPython is that you can run bits of code individually, so you don't have to keep repeating things. For example, if you scroll up to the last function and replace the 50 with 2, you can re-run that code and get the new answer. \n",
      "2. IPython allows you to display images alongside code, and to save the input and output together.\n",
      "3. IPython makes learning a bit easier, as mistakes are easier to find and do not break an entire workflow.\n",
      "\n",
      "You can get more information on IPython, including how to install it on your own machine, at the [IPython Homepage](http://ipython.org)."
     ]
    },
    {
     "cell_type": "markdown",
     "metadata": {},
     "source": [
      "So, the last thing to do in this session is to discuss what you all make of IPython. Can anyone see potential for Python in their own research? What are you working on, anyway? \n",
      "\n",
      "Anything you're struggling with so far?"
     ]
    },
    {
     "cell_type": "heading",
     "level": 1,
     "metadata": {},
     "source": [
      "Session 2: Functions, lists and variables"
     ]
    },
    {
     "cell_type": "markdown",
     "metadata": {},
     "source": [
      "Welcome back. How's everybody settling in?\n",
      "\n",
      "At this point, we want to dive more deeply into general Python functionality. We want to define some functions, manipulate some lists, and understand better what variables are and what they do."
     ]
    },
    {
     "cell_type": "heading",
     "level": 3,
     "metadata": {},
     "source": [
      "Defining a function"
     ]
    },
    {
     "cell_type": "markdown",
     "metadata": {},
     "source": [
      "You may wish to repeat an operation multiple times looking at different texts or different terms within a text. Instead of re-entering the formula every time, you can assign a name and set of actions to a particular task.\n",
      "\n",
      "We've just created a simple function that welcomed you and told you the time.\n",
      "\n",
      "Previously, we calculated the lexical diversity of a text. In NLTK, we can create a function called **lexical diversity** that runs a single line of code. We can then call this function to quickly determine the lexical density of a corpus or subcorpus.\n",
      "Advantages of functions:\n",
      "1. Save you typing\n",
      "2. You can be sure you're doing exactly the same operation every time\n",
      "<br>\n",
      "> **Note** Learn to love tab-completion! Typing the first one or two letters of a command you've used previously then hitting tab \n",
      "will auto-complete that command, saving you typing (i.e. time and mistakes!). \n",
      " \n",
      "<markdown cell>\n",
      "**Challenge!**\n",
      "\n",
      "Using a function, determine which of the nine texts in the NLTK Book has the highest lexical diversity score."
     ]
    },
    {
     "cell_type": "code",
     "collapsed": false,
     "input": [
      ""
     ],
     "language": "python",
     "metadata": {},
     "outputs": []
    },
    {
     "cell_type": "code",
     "collapsed": false,
     "input": [
      "#After the function has been defined, we can run it:\n",
      "\n"
     ],
     "language": "python",
     "metadata": {},
     "outputs": []
    },
    {
     "cell_type": "markdown",
     "metadata": {},
     "source": [
      "The parentheses are important here as they separate the the task, that is the work of the function, from the data that the function is to be performed on. \n",
      "\n",
      "The data in parentheses is called the argument of the function. When we use a function, we say that we 'call' it. \n",
      "\n",
      "Other functions that we've used already include *len()* and *sorted()* - these were predefined. *lexical_diversity()* is one we set up ourselves; note that it's conventional to put a set of parentheses after a function, to make it clear what we're talking about."
     ]
    },
    {
     "cell_type": "heading",
     "level": 3,
     "metadata": {},
     "source": [
      "Lists"
     ]
    },
    {
     "cell_type": "markdown",
     "metadata": {},
     "source": [
      "Python treats a text as a long list of words. First, we'll make some lists of our own, to give you an idea of how a list behaves."
     ]
    },
    {
     "cell_type": "code",
     "collapsed": false,
     "input": [
      "sent1 = ['Call', 'me', 'Ishmael', '.']"
     ],
     "language": "python",
     "metadata": {},
     "outputs": []
    },
    {
     "cell_type": "code",
     "collapsed": false,
     "input": [
      ""
     ],
     "language": "python",
     "metadata": {},
     "outputs": []
    },
    {
     "cell_type": "code",
     "collapsed": false,
     "input": [
      ""
     ],
     "language": "python",
     "metadata": {},
     "outputs": []
    },
    {
     "cell_type": "markdown",
     "metadata": {},
     "source": [
      "The opening sentences of each of our texts have been pre-defined for you. You can inspect them by typing in 'sent2' etc.\n",
      "\n",
      "You can add lists together, creating a new list containing all the items from both lists. You can do this by typing out the two lists or you can add two or more pre-defined lists. This is called concatenation."
     ]
    },
    {
     "cell_type": "code",
     "collapsed": false,
     "input": [
      ""
     ],
     "language": "python",
     "metadata": {},
     "outputs": []
    },
    {
     "cell_type": "markdown",
     "metadata": {},
     "source": [
      "We can also add an item to the end of a list by appending. When we *append()*, the list itself is updated. "
     ]
    },
    {
     "cell_type": "code",
     "collapsed": false,
     "input": [
      ""
     ],
     "language": "python",
     "metadata": {},
     "outputs": []
    },
    {
     "cell_type": "markdown",
     "metadata": {},
     "source": [
      "There are some things we can do to make it easier to read the contents of a string. Note that we get some brackets and so on when we try to print the items in a list as a string."
     ]
    },
    {
     "cell_type": "code",
     "collapsed": false,
     "input": [
      "fruitsalad = []  # declare an empty list\n",
      "fruitsalad.append('watermelon')  # add watermelon\n",
      "fruitsalad.append('orange')  # add orange\n",
      "# try to print our salad here"
     ],
     "language": "python",
     "metadata": {},
     "outputs": []
    },
    {
     "cell_type": "markdown",
     "metadata": {},
     "source": [
      "If we want to print our ingredients in a nicer looking form, we might use a function like *join()*"
     ]
    },
    {
     "cell_type": "code",
     "collapsed": false,
     "input": [
      "fruitsalad = []\n",
      "fruitsalad.append('watermelon')\n",
      "fruitsalad.append('orange')"
     ],
     "language": "python",
     "metadata": {},
     "outputs": []
    },
    {
     "cell_type": "markdown",
     "metadata": {},
     "source": [
      "... whoops! Still ugly. We didn't put anything in between the '' to use as a delimiter."
     ]
    },
    {
     "cell_type": "code",
     "collapsed": false,
     "input": [
      "fruitsalad.append('canteloupe')\n",
      "listasastring = ', '.join(fruitsalad)  # note the comma and space in quotation marks\n",
      "print 'Our fruit salad contains: ' + listasastring"
     ],
     "language": "python",
     "metadata": {},
     "outputs": []
    },
    {
     "cell_type": "heading",
     "level": 3,
     "metadata": {},
     "source": [
      " Indexing Lists"
     ]
    },
    {
     "cell_type": "markdown",
     "metadata": {},
     "source": [
      "We can navigate this list with the help of indexes. Just as we can find out the number of times a word occurs in a text, we can also find where a word first occurs. We can navigate to different points in a text without restriction, so long as we can describe where we want to be."
     ]
    },
    {
     "cell_type": "code",
     "collapsed": false,
     "input": [
      "text4.index('awaken')"
     ],
     "language": "python",
     "metadata": {},
     "outputs": []
    },
    {
     "cell_type": "markdown",
     "metadata": {},
     "source": [
      "This works in reverse as well. We can ask Python to locate the 158th item in our list (note that we use square brackets here, not parentheses)"
     ]
    },
    {
     "cell_type": "code",
     "collapsed": false,
     "input": [
      ""
     ],
     "language": "python",
     "metadata": {},
     "outputs": []
    },
    {
     "cell_type": "markdown",
     "metadata": {},
     "source": [
      "As well as pulling out individual items from a list, indexes can be used to pull out selections of text from a large corpus to inspect. We call this slicing"
     ]
    },
    {
     "cell_type": "code",
     "collapsed": false,
     "input": [
      ""
     ],
     "language": "python",
     "metadata": {},
     "outputs": []
    },
    {
     "cell_type": "markdown",
     "metadata": {},
     "source": [
      "If we're asking for the beginning or end of a text, we can leave out the first or second number. For instance, [:5] will give us the first five items in a list while [8:] will give us all the elements from the eighth to the end. "
     ]
    },
    {
     "cell_type": "code",
     "collapsed": false,
     "input": [
      ""
     ],
     "language": "python",
     "metadata": {},
     "outputs": []
    },
    {
     "cell_type": "markdown",
     "metadata": {},
     "source": [
      "To help you understand how indexes work, let's create one.\n",
      "\n",
      "We start by defining the name of our index and then add the items. You probably won't do this in your own work, but you may want to manipulate an index in other ways. Pay attention to the quote marks and commas when you create your test sentence."
     ]
    },
    {
     "cell_type": "code",
     "collapsed": false,
     "input": [
      "sent = ['The', 'quick', 'brown', 'fox', 'jumps', 'over', 'the', 'lazy', 'dog']\n",
      "\n",
      "\n"
     ],
     "language": "python",
     "metadata": {},
     "outputs": []
    },
    {
     "cell_type": "markdown",
     "metadata": {},
     "source": [
      "Note that the first element in the list is zero. This is because we are telling Python to go zero steps forward in the list. If we use an index that is too large (that is, we ask for something that doesn't exist), we'll get an error.\n",
      "\n",
      "We can modify elements in a list by assigning new data to one of its index values. We can also replace a slice with new material."
     ]
    },
    {
     "cell_type": "code",
     "collapsed": false,
     "input": [
      "\n",
      "\n",
      "\n"
     ],
     "language": "python",
     "metadata": {},
     "outputs": []
    },
    {
     "cell_type": "heading",
     "level": 3,
     "metadata": {},
     "source": [
      " Defining variables"
     ]
    },
    {
     "cell_type": "markdown",
     "metadata": {},
     "source": [
      "In Python, we give the items we're working with names, a process called assignment. For instance, in the NLTK corpus, 'Sense and Sensibility' has been assigned the name 'text2', which is much easier to work with. \n",
      "We also assigend the name 'sent' to the sentence that we created in the previous exercise, so that we could then instruct Python to do various things with it. Assigning a variable in python looks like this:  \n",
      "variable = expression   \n",
      "You can call your variables (almost) anything you like, but it's a good idea to pick names that will be meaningful and easy to type. You can't use words that already have a meaning in Python, such as import, def, or not. If you try to use a word that is reserved, you'll get a syntax error."
     ]
    },
    {
     "cell_type": "markdown",
     "metadata": {},
     "source": [
      "*Challenge*\n",
      "1. Create a list called 'Opening' that consists of the phrase \"It was a dark and stormy night; the rain fell in torrents\"\n",
      "2. Create a variable called 'clause' that contains the contents of 'Opening', up to the semi-colon\n",
      "3. Create a variable called 'alphabetised' that sorts 'clause' alphabetically\n",
      "4. Print 'alphabetised' "
     ]
    },
    {
     "cell_type": "code",
     "collapsed": false,
     "input": [
      "opening = ['It', 'was', 'a', 'dark', 'and', 'stormy', 'night', ';', 'the', 'rain', 'fell', 'in', 'torrents']\n",
      "\n"
     ],
     "language": "python",
     "metadata": {},
     "outputs": []
    },
    {
     "cell_type": "markdown",
     "metadata": {},
     "source": [
      "Note that assigning a variable just causes Python to remember that information without generating any output. \n",
      "\n",
      "If you want Python to show you the result, you have to ask for it (this is a good thing when you assign a variable to a very long list!)."
     ]
    },
    {
     "cell_type": "code",
     "collapsed": false,
     "input": [
      ""
     ],
     "language": "python",
     "metadata": {},
     "outputs": []
    },
    {
     "cell_type": "code",
     "collapsed": false,
     "input": [
      ""
     ],
     "language": "python",
     "metadata": {},
     "outputs": []
    },
    {
     "cell_type": "heading",
     "level": 3,
     "metadata": {},
     "source": [
      "Frequency distributions"
     ]
    },
    {
     "cell_type": "markdown",
     "metadata": {},
     "source": [
      "We can use Python's ability to perform statistical analysis of data to do further exploration of vocabulary. For instance, we might want to be able to find the most common or least common words in a text. We'll start by looking at frequency distribution."
     ]
    },
    {
     "cell_type": "code",
     "collapsed": false,
     "input": [
      ""
     ],
     "language": "python",
     "metadata": {},
     "outputs": []
    },
    {
     "cell_type": "code",
     "collapsed": false,
     "input": [
      ""
     ],
     "language": "python",
     "metadata": {},
     "outputs": []
    },
    {
     "cell_type": "code",
     "collapsed": false,
     "input": [
      ""
     ],
     "language": "python",
     "metadata": {},
     "outputs": []
    },
    {
     "cell_type": "code",
     "collapsed": false,
     "input": [
      ""
     ],
     "language": "python",
     "metadata": {},
     "outputs": []
    },
    {
     "cell_type": "markdown",
     "metadata": {},
     "source": [
      "**Challenge!**\n",
      "\n",
      "Create a function called *common_words()* and use it to compare the 15 most common words of four of the texts in the NLTK book. \n",
      "Discuss what you found with your neighbour."
     ]
    },
    {
     "cell_type": "markdown",
     "metadata": {},
     "source": [
      "As well as counting individual words, we can count other features of vocabulary, such as how often words of different lengths occur. We do this by putting together a number of the commands we've already learned.\n",
      "\n",
      "We could start like this: \n",
      "\n",
      "     [len(w) for w in text1]\n",
      "\n",
      "... but this would print the length of every word in the whole book, so let's skip that bit!"
     ]
    },
    {
     "cell_type": "code",
     "collapsed": false,
     "input": [
      ""
     ],
     "language": "python",
     "metadata": {},
     "outputs": []
    },
    {
     "cell_type": "code",
     "collapsed": false,
     "input": [
      ""
     ],
     "language": "python",
     "metadata": {},
     "outputs": []
    },
    {
     "cell_type": "code",
     "collapsed": false,
     "input": [
      ""
     ],
     "language": "python",
     "metadata": {},
     "outputs": []
    },
    {
     "cell_type": "markdown",
     "metadata": {},
     "source": [
      "These last two commands tell us that the most common word length is 3, and that these 3 letter words account for about 20% of the book. \n",
      "We can see this just by visually inspecting the list produced by *fdist2.most_common()*, but if this list were too long to inspect readily, or we didn't want to print it, there are other ways to explore it.  "
     ]
    },
    {
     "cell_type": "markdown",
     "metadata": {},
     "source": [
      "It is possible to select the longest words in a text, which may tell you something about its vocabulary and style"
     ]
    },
    {
     "cell_type": "code",
     "collapsed": false,
     "input": [
      ""
     ],
     "language": "python",
     "metadata": {},
     "outputs": []
    },
    {
     "cell_type": "markdown",
     "metadata": {},
     "source": [
      "We can fine-tune our selection even further by adding other conditions. For instance, we might want to find long words that occur frequently (or rarely).  \n",
      "\n",
      "**Challenge!**\n",
      "\n",
      "Can you find all the words in a text that are more than seven letters long and occur more than seven times?"
     ]
    },
    {
     "cell_type": "code",
     "collapsed": false,
     "input": [
      ""
     ],
     "language": "python",
     "metadata": {},
     "outputs": []
    },
    {
     "cell_type": "markdown",
     "metadata": {},
     "source": [
      "There are a number of functions defined for NLTK's frequency distributions:\n",
      "\n",
      " | Function | Purpose  |\n",
      " |--------------|------------|\n",
      " | fdist = FreqDist(samples) | create a frequency distribution containing the given samples |\n",
      " | fdist[sample] += 1 | increment the count for this sample |\n",
      " | fdist['monstrous']  | count of the number of times a given sample occurred |\n",
      " | fdist.freq('monstrous') | frequency of a given sample |\n",
      " | fdist.N()  |  total number of samples |\n",
      " | fdist.most_common(n)   |  the n most common samples and their frequencies |\n",
      " | for sample in fdist:   |  iterate over the items in fdist, when in the loop, we refer to each item as sample |\n",
      " | fdist.max() | sample with the greatest count |\n",
      " | fdist.tabulate()   |  tabulate the frequency distribution |\n",
      " | fdist.plot()  |   graphical plot of the frequency distribution |\n",
      " | fdist.plot(cumulative=True) | cumulative plot of the frequency distribution |\n",
      " | fdist1 < fdist2 | test if samples in fdist1 occur less frequently than in fdist2 |"
     ]
    },
    {
     "cell_type": "markdown",
     "metadata": {},
     "source": [
      "We can also find words that typically occur together, which tend to be very specific to a text or genre of texts. We'll talk more about these features and how to use them later."
     ]
    },
    {
     "cell_type": "code",
     "collapsed": false,
     "input": [
      ""
     ],
     "language": "python",
     "metadata": {},
     "outputs": []
    },
    {
     "cell_type": "markdown",
     "metadata": {},
     "source": [
      "We can also use numerical operators to refine the types of searches we ask Python to run. We can use the following relational operators:\n",
      "\n",
      " |  Relational | Meaning |\n",
      " |--------------:|:------------|\n",
      " | <    |  less than |\n",
      " | <=   |   less than or equal to |\n",
      " | ==  |    equal to (note this is two \"=\" signs, not one) |\n",
      " | !=   |   not equal to |\n",
      " | \\>   |   greater than |\n",
      " | \\>= |   greater than or equal to |"
     ]
    },
    {
     "cell_type": "markdown",
     "metadata": {},
     "source": [
      "*Challenge!*\n",
      "Using one of the pre-defined sentences in the NLTK corpus, use the relational operators above to find:"
     ]
    },
    {
     "cell_type": "markdown",
     "metadata": {},
     "source": [
      "1. Words longer than four characters\n",
      "2. Words of four or more characters\n",
      "3. Words of exactly four characters"
     ]
    },
    {
     "cell_type": "code",
     "collapsed": false,
     "input": [
      "# Words longer than four characters:\n",
      "\n"
     ],
     "language": "python",
     "metadata": {},
     "outputs": []
    },
    {
     "cell_type": "code",
     "collapsed": false,
     "input": [
      "# Words of four or more characters:\n",
      "\n"
     ],
     "language": "python",
     "metadata": {},
     "outputs": []
    },
    {
     "cell_type": "code",
     "collapsed": false,
     "input": [
      "# Words of exactly four characters:\n",
      "\n"
     ],
     "language": "python",
     "metadata": {},
     "outputs": []
    },
    {
     "cell_type": "markdown",
     "metadata": {},
     "source": [
      "We can also look for features such as letter combinations, upper and lowercase letters, and digits. Some operators you might like to use are:\n",
      "\n",
      "\n",
      " | Operator  | Purpose  |\n",
      " |--------------|------------|\n",
      " | s.endswith(t)  |  test if s ends with t | \n",
      " | t in s         |  test if t is a substring of s | \n",
      " | s.islower()    |  test if s contains cased characters and all are lowercase | \n",
      " | s.isupper()    |  test if s contains cased characters and all are uppercase | \n",
      " | s.isalpha()    |  test if s is non-empty and all characters in s are alphabetic | \n",
      " | s.isalnum()    |  test if s is non-empty and all characters in s are alphanumeric | \n",
      " | s.isdigit()    |  test if s is non-empty and all characters in s are digits | \n",
      " | s.istitle()    |  test if s contains cased characters and is titlecased (i.e. all words in s have initial capitals) | "
     ]
    },
    {
     "cell_type": "code",
     "collapsed": false,
     "input": [
      ""
     ],
     "language": "python",
     "metadata": {},
     "outputs": []
    },
    {
     "cell_type": "code",
     "collapsed": false,
     "input": [
      ""
     ],
     "language": "python",
     "metadata": {},
     "outputs": []
    },
    {
     "cell_type": "markdown",
     "metadata": {},
     "source": [
      "Have a play around with some of these operators in the cells below."
     ]
    },
    {
     "cell_type": "code",
     "collapsed": false,
     "input": [
      ""
     ],
     "language": "python",
     "metadata": {},
     "outputs": []
    },
    {
     "cell_type": "code",
     "collapsed": false,
     "input": [
      ""
     ],
     "language": "python",
     "metadata": {},
     "outputs": []
    },
    {
     "cell_type": "code",
     "collapsed": false,
     "input": [
      "# You can insert more cells via the menu bar if you need to!"
     ],
     "language": "python",
     "metadata": {},
     "outputs": []
    },
    {
     "cell_type": "markdown",
     "metadata": {},
     "source": [
      "**Bonus!**\n",
      "\n",
      "You'll remember right at the beginning we started looking at the size of the vocabulary of a text, but there were two problems with the results we got from using:\n",
      "\n",
      "     len(set(text1)).\n",
      "\n",
      "This count includes items of punctuation and treats capitalised and non-capitalised words as different things (*This* vs *this*). We can now fix these problems. We start by getting rid of capitalised words, then we get rid of the punctuation and numbers."
     ]
    },
    {
     "cell_type": "code",
     "collapsed": false,
     "input": [
      ""
     ],
     "language": "python",
     "metadata": {},
     "outputs": []
    },
    {
     "cell_type": "code",
     "collapsed": false,
     "input": [
      ""
     ],
     "language": "python",
     "metadata": {},
     "outputs": []
    },
    {
     "cell_type": "markdown",
     "metadata": {},
     "source": [
      "<img style=\"float:left\" src=\"http://images.catsolonline.com/cache/custom/CEN/CE651-250x250.jpg\" />\n",
      "<br>"
     ]
    },
    {
     "cell_type": "markdown",
     "metadata": {},
     "source": [
      "You've completed the introduction to Python Natural Language Toolkit! To summarise, here's what you've learned so far:\n",
      "\n",
      "* How to navigate the iPython notebook\n",
      "* How Python uses whitespace \n",
      "* Why functions are useful and how to define one\n",
      "* How to use basic Python commands to start exploring features of a text\n",
      "\n",
      "We'll practice all these commands in the following lessons ... so don't panic!\n",
      "\n",
      "It's a lot to take in and it will probably take a while before you feel really comfortable."
     ]
    },
    {
     "cell_type": "heading",
     "level": 1,
     "metadata": {},
     "source": [
      "Session 3: Common NLTK tasks"
     ]
    },
    {
     "cell_type": "markdown",
     "metadata": {},
     "source": [
      "<br>\n",
      "In this session we provide an quick introduction to the field of *corpus linguistics*. We then engage with common uses of NLTK within these areas, such as sentence segmentation, tokenisation and stemming. Often, NLTK has inbuilt methods for performing these tasks. As a learning exercise, however, we will sometimes build basic tools from scratch."
     ]
    },
    {
     "cell_type": "heading",
     "level": 2,
     "metadata": {},
     "source": [
      "Corpus linguistics"
     ]
    },
    {
     "cell_type": "markdown",
     "metadata": {},
     "source": [
      "Though corpus linguistics has been around since the 1950s, it is only in the last 20 years that its methods have been made available to individual researchers. GUIs including [Wordsmith Tools](http://www.lexically.net/wordsmith/) and [AntConc](http://www.laurenceanthony.net/software.html). \n",
      "\n",
      "Alongside the development of GUIs, there has also been a shift from *general, balanced corpora* (corpora seeking to represent a language generally) toward *specialised corpora* (corpora containing texts of one specific type, from one speaker, etc.). More and more commonly, texts are taken from the Web.\n",
      "\n",
      "> **Note:** We'll discuss building corpora from online texts in a bit more detail tomorrow afternoon.\n",
      "\n",
      "After a long period of resistance, corpus linguistics has gained acceptence within a number of research areas. A few popular applications are within:\n",
      "\n",
      "* **Lexicography** (creating usage-based definitions of words and locating real examples)\n",
      "* **Language pedagogy** (advanced language learners can use a concordancing GUI or collocation tests to understand how certain words are used in the target language)\n",
      "* **Discourse analysis** (researching how meaning is made beyond the level of the clause/sentence)\n",
      "\n",
      "Notably, corpus linguistic methods have been embraced within the emerging paradigm of Digital Humanities, where it's sometimes called *distant reading*."
     ]
    },
    {
     "cell_type": "heading",
     "level": 3,
     "metadata": {},
     "source": [
      "Corpora and discourse"
     ]
    },
    {
     "cell_type": "markdown",
     "metadata": {},
     "source": [
      "As hardware, software and data become more and more available, people have started using corpus linguistic methods for discourse-analytic work. Paul Baker refers the combination of corpus linguistics and (critical) discourse analysis as a [*useful methodological synergy*](#ref:baker). Corpora bring objectivity and empiricism to a qualitative, interpretative tradition, while discourse-analytic methods provide corpus linguistics with a means of contextualising abstracted results.\n",
      "\n",
      "Within this area, researchers rely on corpora to varying extents. In *corpus-driven* discourse analysis, researchers interpret the corpus based on the findings of the corpus interrogation. In *corpus-assisted* discourse analysis, researchers may use corpora to provide evidence about the way a given person/idea/discourse is commonly represented by certain people/in certain publications etc.\n",
      "\n",
      "Our work here falls under the *corpus-driven* heading, as we are exploring the dataset without any major hypotheses in mind.\n",
      "\n",
      "> **Note:** Some linguists remain skeptical of corpus linguistics generally. In a well-known critique, Henry Widdowson ([2000, p. 6-7](#ref:widdowson)) said:\n",
      ">\n",
      "> Corpus linguistics \\[...\\] (there) is no doubt that this is an immensely important development in descriptive linguistics. That is not the issue here. The quantitative analysis of text by computer reveals facts about actual language behaviour which are not, or at least not immediately, accessible to intuition. There are frequencies of occurrence of words, and regular patterns of collocational co-occurrence, which users are unaware of, though they must be part of their competence in a procedural sense since they would not otherwise be attested. They are third person observed data ('When do they use the word X?') which are different from the first person data of introspection ('When do I use the word X?'), and the second person data of elicitation ('When do you use the word X?'). Corpus analysis reveals textual facts, fascinating profiles of produced language, and its concordances are always springing surprises. They do indeed reveal a reality about language usage which was hitherto not evident to its users.\n",
      ">\n",
      "> But this achievement of corpus analysis at the same time necessarily defines its limitations. For one thing, since what is revealed is contrary to intuition, then it cannot represent the reality of first person awareness. We get third person facts of what people do, but not the facts of what people know, nor what they think they do: they come from the perspective of the observer looking on, not the introspective of the insider. In ethnomethodogical terms, we do not get member categories of description. Furthermore, it can only be one aspect of what they do that is captured by such quantitative analysis. For, obviously enough, the computer can only cope with the material products ofwhat people do when they use language. It can only analyse the textual traces of the processes whereby meaning is achieved: it cannot account for the complex interplay of linguistic and contextual factors whereby discourse is enacted. It cannot produce ethnographic descriptions of language use. In reference to Hymes's components of communicative competence (Hymes 1972), we can say that corpus analysis deals with the textually attested, but not with the encoded possible, nor the contextually appropriate.\n",
      "> \n",
      "> To point out these rather obvious limitations is not to undervalue corpus analysis but to define more clearly where its value lies. What it can do is reveal the properties of text, and that is impressive enough. But it is necessarily only a partial account of real language. For there are certain aspects of linguistic reality that it cannot reveal at all. In this respect, the linguistics of the attested is just as partial as the linguistics of the possible."
     ]
    },
    {
     "cell_type": "heading",
     "level": 2,
     "metadata": {},
     "source": [
      "Loading a corpus"
     ]
    },
    {
     "cell_type": "markdown",
     "metadata": {},
     "source": [
      "First, we have to load a corpus. We'll use a text file containing posts to an Australian online forum for discussing politics. It's full of very interesting natural language data!"
     ]
    },
    {
     "cell_type": "code",
     "collapsed": false,
     "input": [
      "from IPython.display import display\n",
      "from IPython.display import HTML\n",
      "HTML('<iframe src=http://www.ozpolitic.com/forum/YaBB.pl?board=global width=700 height=350></iframe>')"
     ],
     "language": "python",
     "metadata": {},
     "outputs": []
    },
    {
     "cell_type": "markdown",
     "metadata": {},
     "source": [
      "This file is available online, at the [ResBaz GitHub](https://github.com/resbaz). We can ask Python to get it for us. \n",
      "\n",
      "> Later in the course, we'll discuss how to extract data from the Web and turn this data into a corpus."
     ]
    },
    {
     "cell_type": "code",
     "collapsed": false,
     "input": [
      "from urllib import urlopen # a library for working with urls\n",
      "url = \"https://raw.githubusercontent.com/resbaz/lessons/master/nltk/corpora/oz_politics/ozpol.txt\" # define the url\n",
      "\n",
      "\n",
      "\n"
     ],
     "language": "python",
     "metadata": {},
     "outputs": []
    },
    {
     "cell_type": "markdown",
     "metadata": {},
     "source": [
      "We actually already downloaded this file when we first cloned the ResBaz GitHub repository. It's in our *corpora* folder. We can access it like this:"
     ]
    },
    {
     "cell_type": "code",
     "collapsed": false,
     "input": [
      ""
     ],
     "language": "python",
     "metadata": {},
     "outputs": []
    },
    {
     "cell_type": "heading",
     "level": 2,
     "metadata": {},
     "source": [
      "Regular Expressions"
     ]
    },
    {
     "cell_type": "markdown",
     "metadata": {},
     "source": [
      "Before we go any further, we need to talk about Regular Expressions. Regular Expressions (regexes) are ways of searching for complex patterns in strings. Regexes are standardised across many programming languages, and can also be used in GUI text editors and word processers."
     ]
    },
    {
     "cell_type": "code",
     "collapsed": false,
     "input": [
      "import nltk # just in case (you should only need to import a library once per session, \n",
      "    # but nothing bad will happen if you do it again)\n",
      "import re # import this before using regexes!"
     ],
     "language": "python",
     "metadata": {},
     "outputs": []
    },
    {
     "cell_type": "markdown",
     "metadata": {},
     "source": [
      "If only using alphanumeric characters and spaces, regexes work like any normal search."
     ]
    },
    {
     "cell_type": "code",
     "collapsed": false,
     "input": [
      "# print only match\n",
      "\n"
     ],
     "language": "python",
     "metadata": {},
     "outputs": []
    },
    {
     "cell_type": "markdown",
     "metadata": {},
     "source": [
      "Hmm ... not very useful."
     ]
    },
    {
     "cell_type": "code",
     "collapsed": false,
     "input": [
      "# print whole line\n",
      "\n"
     ],
     "language": "python",
     "metadata": {},
     "outputs": []
    },
    {
     "cell_type": "markdown",
     "metadata": {},
     "source": [
      "... but regex can be much more powerful than that. Certain characters have special meanings:\n",
      "\n",
      "* . (period): any character\n",
      "* \\* (asterisk): any number of times\n",
      "* \\b: word boundary\n",
      "* ^ (carat): start of a line\n",
      "* $ (dollar sign): end of a line\n",
      "* \\+ (plus): one or more times\n",
      "* [xy]: either x or y\n",
      "* o{5}: five os in a row\n",
      "* o{5,}: at least five os in a row\n",
      "* o{,5}: max five os in a row\n",
      "* (any|of|these|words)"
     ]
    },
    {
     "cell_type": "code",
     "collapsed": false,
     "input": [
      "# [a-z] means any letter\n",
      "# the plus means ''one or more of the thing before''\n",
      "\n"
     ],
     "language": "python",
     "metadata": {},
     "outputs": []
    },
    {
     "cell_type": "code",
     "collapsed": false,
     "input": [
      "# word at start of line that ends in ion:\n",
      "\n"
     ],
     "language": "python",
     "metadata": {},
     "outputs": []
    },
    {
     "cell_type": "markdown",
     "metadata": {},
     "source": [
      "Sometimes, we want match the special characters:"
     ]
    },
    {
     "cell_type": "code",
     "collapsed": false,
     "input": [
      "string = 'What!? :) U fink im flirtin wit *u*!? LOL'\n",
      "# define a regex:\n",
      "\n"
     ],
     "language": "python",
     "metadata": {},
     "outputs": []
    },
    {
     "cell_type": "markdown",
     "metadata": {},
     "source": [
      "What happened? Well, if you want to search for any special character, it must be 'escaped' by a backslash:"
     ]
    },
    {
     "cell_type": "code",
     "collapsed": false,
     "input": [
      "string = 'What!? :) U fink im flirtin wit *u*!? LOL'\n",
      "\n"
     ],
     "language": "python",
     "metadata": {},
     "outputs": []
    },
    {
     "cell_type": "markdown",
     "metadata": {},
     "source": [
      "Regular expressions take a while to master, but have great benefits for searching large texts for very specific things. Here are some additional regex resources:\n",
      "\n",
      "* [Regex Info](http://www.regular-expressions.info/): tutorials etc.\n",
      "* [Regexr](http://www.regexr.com/): a place to build and test out your regex\n",
      "* [Regex crosswords](http://regexcrossword.com/): exactly what you think it is!"
     ]
    },
    {
     "cell_type": "markdown",
     "metadata": {},
     "source": [
      "We can get any word over a minimum number of characters by passing an integer into a regex."
     ]
    },
    {
     "cell_type": "code",
     "collapsed": false,
     "input": [
      "sentence = 'We, the democratically-elected leaders of our people, hereby declare Kosovo to be an independent and sovereign state'\n",
      "\n"
     ],
     "language": "python",
     "metadata": {},
     "outputs": []
    },
    {
     "cell_type": "heading",
     "level": 2,
     "metadata": {},
     "source": [
      "Sentence segmentation"
     ]
    },
    {
     "cell_type": "markdown",
     "metadata": {},
     "source": [
      "So, with a basic understanding of regex, we can now start to turn our corpus into a structured resource. At present, we have 'raw', a very, very long string of text.\n",
      "\n",
      " We should break the string into segments. First, we'll split the corpus into sentences. This task is a pretty boring one, and it's tough for us to improve on existing resources. We'll try, though.\n",
      "\n",
      "Let's define a sentence as any string ending with (one or more) newline, full stop, question mark, or exclamation mark. A regex can be written to find these, and the *split()* function can  be used to break the string into a list of strings."
     ]
    },
    {
     "cell_type": "code",
     "collapsed": false,
     "input": [
      ""
     ],
     "language": "python",
     "metadata": {},
     "outputs": []
    },
    {
     "cell_type": "markdown",
     "metadata": {},
     "source": [
      "Well, it worked, sort of. What problems do we have?\n",
      "\n",
      "1. sh.thole was split\n",
      "2. Empty matches/punctuation only matches\n",
      "\n",
      "So, to fix our first problem, we have to make an intpretative decision. Is *sh.thole* a word? We could:\n",
      "\n",
      "1. Clean the corpus and remove this false positive\n",
      "2. Define sentence differently\n",
      "\n",
      "We'll go with the second option, for better or worse. The regex in the code below makes sure that any sentence final character must not be followed by a letter."
     ]
    },
    {
     "cell_type": "code",
     "collapsed": false,
     "input": [
      "sentences = re.split(\"(?:\\n|\\.|\\?|!)+([^a-zA-Z]|$)\", raw)\n",
      "# print the first ten?"
     ],
     "language": "python",
     "metadata": {},
     "outputs": []
    },
    {
     "cell_type": "markdown",
     "metadata": {},
     "source": [
      "Problem 1 is solved: *sh.thole* is now a single token. To fix Problem 2, we will remove list items not containing a letter, as any sentence must contain at least one by definition."
     ]
    },
    {
     "cell_type": "code",
     "collapsed": false,
     "input": [
      ""
     ],
     "language": "python",
     "metadata": {},
     "outputs": []
    },
    {
     "cell_type": "markdown",
     "metadata": {},
     "source": [
      "We can create a sentence segmenter function:"
     ]
    },
    {
     "cell_type": "code",
     "collapsed": false,
     "input": [
      ""
     ],
     "language": "python",
     "metadata": {},
     "outputs": []
    },
    {
     "cell_type": "code",
     "collapsed": false,
     "input": [
      "# Call the segmenter on our raw text here. Store it in a variable called 'sents'"
     ],
     "language": "python",
     "metadata": {},
     "outputs": []
    },
    {
     "cell_type": "markdown",
     "metadata": {},
     "source": [
      "It's all academic, anyway: NLTK actually has a sentence segmenter built in that works better than ours (we didn't deal with quotation marks, or brackets, for example)."
     ]
    },
    {
     "cell_type": "code",
     "collapsed": false,
     "input": [
      ""
     ],
     "language": "python",
     "metadata": {},
     "outputs": []
    },
    {
     "cell_type": "markdown",
     "metadata": {},
     "source": [
      "Alright, we have sentences. Now what?"
     ]
    },
    {
     "cell_type": "heading",
     "level": 2,
     "metadata": {},
     "source": [
      "Tokenisation"
     ]
    },
    {
     "cell_type": "markdown",
     "metadata": {},
     "source": [
      "Tokenisation is simply the process of breaking texts down into words. We already did a little bit of this in Session 1. We won't build our own tokenizer, because it's not much fun. NLTK has one we can rely on.\n",
      "\n",
      "Keep in mind that definitions of tokens are not standardised, especially for languages other than English. Serious problems arise when comparing two corpora that have been tokenised differently.\n",
      "\n",
      "> **Note:** It is also possible to use NLTK to break tokens into morphemes, syllables, or phonemes. We're not going to go down those roads, though."
     ]
    },
    {
     "cell_type": "code",
     "collapsed": false,
     "input": [
      ""
     ],
     "language": "python",
     "metadata": {},
     "outputs": []
    },
    {
     "cell_type": "heading",
     "level": 2,
     "metadata": {},
     "source": [
      "Stemming"
     ]
    },
    {
     "cell_type": "markdown",
     "metadata": {},
     "source": [
      "Stemming is the task of finding the stem of a word. So, *cats --> cat*, or *taking --> take*. It is an important task when counting words, as often the counting each inflection seperately is not particuarly helpful: forms of the verb 'to be' might seem under-represented if we could *is, are, were, was, am, be, being, been* separately. \n",
      "\n",
      "NLTK has pre-programmed stemmers, but we can build our own using some of the skills we've already learned.\n",
      "\n",
      "A stemmer is the kind of thing that would make a good function, so let's do that."
     ]
    },
    {
     "cell_type": "code",
     "collapsed": false,
     "input": [
      "# stem function here!"
     ],
     "language": "python",
     "metadata": {},
     "outputs": []
    },
    {
     "cell_type": "markdown",
     "metadata": {},
     "source": [
      "Let's run it over some text and see how it performs."
     ]
    },
    {
     "cell_type": "code",
     "collapsed": false,
     "input": [
      "# empty list for our output\n",
      "stemmed_sents = []\n",
      "\n"
     ],
     "language": "python",
     "metadata": {},
     "outputs": []
    },
    {
     "cell_type": "markdown",
     "metadata": {},
     "source": [
      "Looking at the output, we can see that the stemmer works: *wingers* becomes *winger*, and *tearing* becomes *tear*. But, sometimes it does things we don't want: *Nothing* becomes *noth*, and *mate* becomes *mat*. Even so, for the learns, let's rewrite our function with a regex:"
     ]
    },
    {
     "cell_type": "code",
     "collapsed": false,
     "input": [
      ""
     ],
     "language": "python",
     "metadata": {},
     "outputs": []
    },
    {
     "cell_type": "markdown",
     "metadata": {},
     "source": [
      "Because we just redefined the *stem()* function, we can run the previous code and get different results."
     ]
    },
    {
     "cell_type": "markdown",
     "metadata": {},
     "source": [
      "Here's a very quick implementation of our stemmer on our raw tokens:"
     ]
    },
    {
     "cell_type": "code",
     "collapsed": false,
     "input": [
      "tokens = nltk.word_tokenize(raw)\n",
      "stemmed = [stem(t) for t in tokens]\n",
      "print stemmed[:50]"
     ],
     "language": "python",
     "metadata": {},
     "outputs": []
    },
    {
     "cell_type": "markdown",
     "metadata": {},
     "source": [
      "We can see that this approach has obvious limitations. So, let's rely on a purpose-built stemmer. These rely in part on dictionaries. Note the subtle differences between the two possible stemmers:"
     ]
    },
    {
     "cell_type": "code",
     "collapsed": false,
     "input": [
      "# define stemmers\n",
      "\n",
      "# stem each word in tokens ...\n",
      "\n"
     ],
     "language": "python",
     "metadata": {},
     "outputs": []
    },
    {
     "cell_type": "markdown",
     "metadata": {},
     "source": [
      "Notice that both stemmers handle some things rather poorly. The main reason for this is that they are not aware of the *word class* of any particular word: *nothing* is a noun, and nouns ending in *ing* should not have *ing* removed by the stemmer (swing, bling, ring...). Later in the course, we'll start annotating corpora with grammatical information. This improves the accuracy of stemmers a lot.\n",
      "\n",
      "> Note: stemming is not *always* the best thing to do: though *thing* is the stem of *things*, things has a unique meaning, as in *things will improve*. If we are interested in vague language, we may not want to collapse things --> thing."
     ]
    },
    {
     "cell_type": "heading",
     "level": 2,
     "metadata": {},
     "source": [
      "Keywording: 'the aboutness of a text'"
     ]
    },
    {
     "cell_type": "markdown",
     "metadata": {},
     "source": [
      "Keywording is the process of generating a list of words that are unusually frequent in the corpus of interest. To do it, you need a *reference corpus*, or at least a *reference wordlist* to which your *target corpus* can be compared. Often, *reference corpora* take the form of very large collections of language drawn from a variety of spoken and written sources.\n",
      "\n",
      "Keywording is what generates word-clouds beside online news stories, blog posts, and the like. In combination with speech-to-text, it's used in Oxford University's [Spindle Project](http://openspires.oucs.ox.ac.uk/spindle/) to automatically archive recorded lectures with useful tags.\n",
      "\n",
      "In fact, the keywording part of the Spindle Project is written in Python, and in open source.\n",
      "\n",
      "Spindle has sensible defaults for keyword calculation. Let's download their code and use it to generate keywords from our corpus."
     ]
    },
    {
     "cell_type": "code",
     "collapsed": false,
     "input": [
      "import sys\n",
      "sys.path.insert(0, 'spindle-code-master/keywords')\n",
      "# import the function\n",
      "from keywords import keywords_and_ngrams # import keywords function"
     ],
     "language": "python",
     "metadata": {},
     "outputs": []
    },
    {
     "cell_type": "code",
     "collapsed": false,
     "input": [
      "# this tool works with raw text, not tokens!\n",
      "\n"
     ],
     "language": "python",
     "metadata": {},
     "outputs": []
    },
    {
     "cell_type": "markdown",
     "metadata": {},
     "source": [
      "Success! We have keywords.\n",
      "\n",
      "> Keep in mind, the BNC reference corpus was created before ISIS and ISIL existed. *Moslem/moslems* is a dispreferred spelling of Muslim, used more frequently in anti-Islamic discourse. Also, it's unlikely that a transcriber of the spoken BNC would choose the Moslem spelling. *Having an inappropriate reference corpus is a common methodological problem in discourse analytic work*.\n",
      "\n",
      "Our keywords would perhaps be better if they were stemmed. That shouldn't be too hard for us:"
     ]
    },
    {
     "cell_type": "code",
     "collapsed": false,
     "input": [
      ""
     ],
     "language": "python",
     "metadata": {},
     "outputs": []
    },
    {
     "cell_type": "markdown",
     "metadata": {},
     "source": [
      "Rats! Keywording with stems actually revealed a list of incorrect stems.\n",
      "\n",
      "What we really need to do is improve our stemmer, and then come back and try again."
     ]
    },
    {
     "cell_type": "heading",
     "level": 2,
     "metadata": {},
     "source": [
      "A return to stemming"
     ]
    },
    {
     "cell_type": "markdown",
     "metadata": {},
     "source": [
      "Keywords and ngram searches actually work by comparing a corpus to a reference corpus. In our case, we have been using a dictionary of words in the 100 million word *British National Corpus*. We could use this same dictionary to make sure our stemmer does not create non-words when it stems.\n",
      "\n",
      "First, let's get a list of common words in the BNC from the *pickle* provided by SPINDLE (*pickle* is a kind of list compression)."
     ]
    },
    {
     "cell_type": "code",
     "collapsed": false,
     "input": [
      "\n",
      "\n",
      "\n",
      "print bnc_commonwords[:200] # what are our results?"
     ],
     "language": "python",
     "metadata": {},
     "outputs": []
    },
    {
     "cell_type": "markdown",
     "metadata": {},
     "source": [
      "So, this gives us a list of any word appearing more than twenty times in the BNC. We could build this function into our stemmer:"
     ]
    },
    {
     "cell_type": "code",
     "collapsed": false,
     "input": [
      "# Now, let's use this as the dict for our stemmer\n",
      "# The third variable sets a default threshold, but also allows us to enter one.\n",
      "def newstemmer(words, stemmer, threshold = 20):\n",
      "    \"\"\"A stemmer that uses Lancaster/porter stemmer plus a dictionary.\"\"\"\n",
      "    import pickle\n",
      "    import os\n",
      "    import nltk\n",
      "    bncwordlist = pickle.load(open('spindle-code-master/keywords/bnc.p', 'rb'))\n",
      "    bnc_commonwords = {k for (k,v) in bncwordlist.iteritems() if v > threshold}\n",
      "    # if words is a raw string, tokenise it\n",
      "    if type(words) == unicode or type(words) == string:\n",
      "        tokens = nltk.word_tokenize(words)\n",
      "    # or, if list of tokens, duplicate the list\n",
      "    else:\n",
      "        tokens = words\n",
      "        # define stemmer based on the argument we passed in\n",
      "    if stemmer == 'Lancaster':\n",
      "        stemmertouse = nltk.LancasterStemmer()\n",
      "    if stemmer == 'Porter':\n",
      "        stemmertouse = nltk.PorterStemmer()\n",
      "    # empty list of stems\n",
      "    stems = []\n",
      "    for w in tokens:\n",
      "        # stem each word\n",
      "        stem = stemmertouse.stem(w)\n",
      "        # if the stem is in the bnc list\n",
      "        if stem in bnc_commonwords:\n",
      "            # add the stem\n",
      "            stems.append(stem)\n",
      "        else:\n",
      "            # or else, just add the word as it was\n",
      "            stems.append(w)\n",
      "    return stems"
     ],
     "language": "python",
     "metadata": {},
     "outputs": []
    },
    {
     "cell_type": "markdown",
     "metadata": {},
     "source": [
      "Now, we can fiddle with the stemmer and BNC frequency to get different keyword lists."
     ]
    },
    {
     "cell_type": "code",
     "collapsed": false,
     "input": [
      "# try raising the threshold if there are still bad spellings!\n",
      "\n"
     ],
     "language": "python",
     "metadata": {},
     "outputs": []
    },
    {
     "cell_type": "code",
     "collapsed": false,
     "input": [
      ""
     ],
     "language": "python",
     "metadata": {},
     "outputs": []
    },
    {
     "cell_type": "heading",
     "level": 2,
     "metadata": {},
     "source": [
      "Collocation"
     ]
    },
    {
     "cell_type": "markdown",
     "metadata": {},
     "source": [
      "> *You shall know a word by the company it keeps.* - J.R. Firth, 1957\n",
      "\n",
      "Collocation is a very common area of interest in corpus linguistics. Words pattern together in both expected and unexpected ways. In some contexts, *drug* and *medication* are synonymous, but it would be very rare to hear about *illicit* or *street medication*. Similarly, doctors are unlikely to prescribe the *correct* or *appropriate drug*.\n",
      "\n",
      "This kind of information may be useful to lexicographers, discourse analysts, or advanced language learners.\n",
      "\n",
      "In NLTK, collocation works from ordered lists of tokens. Let's put out tokenised sents into a single, huge list of tokens:"
     ]
    },
    {
     "cell_type": "code",
     "collapsed": false,
     "input": [
      ""
     ],
     "language": "python",
     "metadata": {},
     "outputs": []
    },
    {
     "cell_type": "markdown",
     "metadata": {},
     "source": [
      "Now, let's feed these to an NLTK function for measuring collocations:"
     ]
    },
    {
     "cell_type": "code",
     "collapsed": false,
     "input": [
      "# get all the functions needed for collocation work\n",
      "from nltk.collocations import *\n",
      "# define statistical tests for bigrams\n",
      "bigram_measures = nltk.collocations.BigramAssocMeasures()\n",
      "# go and find bigrams\n",
      "\n",
      "# measure which bigrams are important and print the top 30\n",
      "\n"
     ],
     "language": "python",
     "metadata": {},
     "outputs": []
    },
    {
     "cell_type": "markdown",
     "metadata": {},
     "source": [
      "So, that tells us a little: we can see that *terrorists*, *Muslims* and the *Middle East* are commonly collocating in the text. At present, we are only looking for immediately adjacent words. So, let's expand out search to a window of *five words either side*:"
     ]
    },
    {
     "cell_type": "code",
     "collapsed": false,
     "input": [
      ""
     ],
     "language": "python",
     "metadata": {},
     "outputs": []
    },
    {
     "cell_type": "markdown",
     "metadata": {},
     "source": [
      "Now we have the appearance of very common words! Let's use NLTK's stopwords list to remove entries containing these:"
     ]
    },
    {
     "cell_type": "code",
     "collapsed": false,
     "input": [
      ""
     ],
     "language": "python",
     "metadata": {},
     "outputs": []
    },
    {
     "cell_type": "markdown",
     "metadata": {},
     "source": [
      "There! Now we have some interesting collocates. Finally, let's remove punctuation-only entries, or entries that are *n't*, as this is caused by different tokenisers:"
     ]
    },
    {
     "cell_type": "code",
     "collapsed": false,
     "input": [
      "# can we use bits of the code above?"
     ],
     "language": "python",
     "metadata": {},
     "outputs": []
    },
    {
     "cell_type": "markdown",
     "metadata": {},
     "source": [
      "You can get a lot more info on collocation at the [NLTK homepage](http://www.nltk.org/howto/collocations.html)."
     ]
    },
    {
     "cell_type": "heading",
     "level": 2,
     "metadata": {},
     "source": [
      "Clustering/n-grams"
     ]
    },
    {
     "cell_type": "markdown",
     "metadata": {},
     "source": [
      "Clustering is the task of finding words that are commonly **immediately** adjacent (as opposed to collocates, which may just be nearby). This is also often called n-grams: bigrams are two tokens that appear together, trigrams are three, etc.\n",
      "\n",
      "Clusters/n-grams have a spooky ability to tell us what a text is about.\n",
      "\n",
      "We can use *Spindle* for bigram searching as well:"
     ]
    },
    {
     "cell_type": "code",
     "collapsed": false,
     "input": [
      "# an argument here to stop keywords from being produced.\n",
      "keywords_and_ngrams(raw.encode(\"UTF-8\"), nKeywords=0)"
     ],
     "language": "python",
     "metadata": {},
     "outputs": []
    },
    {
     "cell_type": "markdown",
     "metadata": {},
     "source": [
      "There's also a method for n-gram production in NLTK. We can use this to understand how n-gramming works.\n",
      "\n",
      "Below, we get lists of any ten adjacent tokens:"
     ]
    },
    {
     "cell_type": "code",
     "collapsed": false,
     "input": [
      "from nltk.util import ngrams\n",
      "# define a sentence\n",
      "sentence = 'give a man a fish and you feed him for a day; teach a man to fish and you feed him for a lifetime'\n",
      "# length of ngram\n",
      "\n"
     ],
     "language": "python",
     "metadata": {},
     "outputs": []
    },
    {
     "cell_type": "markdown",
     "metadata": {},
     "source": [
      "So, there are plenty of tengrams in there! What we're interested in, however, is duplicated n-grams:"
     ]
    },
    {
     "cell_type": "code",
     "collapsed": false,
     "input": [
      "# arguments: a text, ngram size, and minimum occurrences\n",
      "def ngrammer(text, gramsize, threshold = 4):\n",
      "    \"\"\"Get any repeating ngram containing gramsize tokens\"\"\"\n",
      "    # we need to import this in order to find the duplicates:\n",
      "    from collections import defaultdict\n",
      "    from nltk.util import ngrams\n",
      "\n",
      "    # a subdefinition to get duplicate lists in a list\n",
      "    def list_duplicates(seq):\n",
      "        tally = defaultdict(list)\n",
      "        for i,item in enumerate(seq):\n",
      "            tally[item].append(i)\n",
      "            # return to us the index and the ngram itself:\n",
      "        return ((len(locs),key) for key,locs in tally.items() \n",
      "               if len(locs) > threshold)\n",
      "\n",
      "    # get ngrams of gramsize    \n",
      "    raw_grams = ngrams(text.split(), gramsize)\n",
      "    # use our duplication detector to find duplicates\n",
      "    dupes = list_duplicates(raw_grams)\n",
      "    # return them, sorted by most frequent\n",
      "    return sorted(dupes, reverse = True)"
     ],
     "language": "python",
     "metadata": {},
     "outputs": []
    },
    {
     "cell_type": "markdown",
     "metadata": {},
     "source": [
      "Now that it's defined, let's run it, looking for trigrams"
     ]
    },
    {
     "cell_type": "code",
     "collapsed": false,
     "input": [
      ""
     ],
     "language": "python",
     "metadata": {},
     "outputs": []
    },
    {
     "cell_type": "markdown",
     "metadata": {},
     "source": [
      "Too many results? Let's set a higher threshold than the default."
     ]
    },
    {
     "cell_type": "code",
     "collapsed": false,
     "input": [
      ""
     ],
     "language": "python",
     "metadata": {},
     "outputs": []
    },
    {
     "cell_type": "heading",
     "level": 2,
     "metadata": {},
     "source": [
      "Concordancing with regular expressions"
     ]
    },
    {
     "cell_type": "markdown",
     "metadata": {},
     "source": [
      "We've already done a bit of concordancing. In discourse-analytic research, concordancing is often used to perform thematic categorisation."
     ]
    },
    {
     "cell_type": "code",
     "collapsed": false,
     "input": [
      ""
     ],
     "language": "python",
     "metadata": {},
     "outputs": []
    },
    {
     "cell_type": "markdown",
     "metadata": {},
     "source": [
      "We could even our stemmed corpus here:"
     ]
    },
    {
     "cell_type": "markdown",
     "metadata": {},
     "source": [
      "You get no matches for plurals in the latter case, because instances have all been stemmed.\n",
      "\n",
      "A problem with the NLTK concordancer is that it only works with individual tokens. What if we want to find words that end with **ment*, or words beginning with *poli**?\n",
      "\n",
      "We already searched text with Regular Expressions. It's not much more work to build regex functionality into our own concordancer.\n",
      "\n",
      "From running the code below, you can see that bracketting sections of our regex causes results to split into lists:"
     ]
    },
    {
     "cell_type": "code",
     "collapsed": false,
     "input": [
      "# define a regex for different aussie words\n",
      "\n"
     ],
     "language": "python",
     "metadata": {},
     "outputs": []
    },
    {
     "cell_type": "markdown",
     "metadata": {},
     "source": [
      "Well, it's ugly, but it works. We can see five bracketted results, each containing three strings. The first and third strings are the left-context and right-context. The second of the three strings is the search term.\n",
      "\n",
      "These three sections are, with a bit of tweaking, the same as the output given by a concordancer.\n",
      "\n",
      "Let's go ahead and turn our regex seacher into a concordancer:"
     ]
    },
    {
     "cell_type": "code",
     "collapsed": false,
     "input": [
      "# searchpattern = re.compile(r\"(.{,30})(\\b\" + regex + r\"\\b)(.{,30})\")"
     ],
     "language": "python",
     "metadata": {},
     "outputs": []
    },
    {
     "cell_type": "code",
     "collapsed": false,
     "input": [
      ""
     ],
     "language": "python",
     "metadata": {},
     "outputs": []
    },
    {
     "cell_type": "markdown",
     "metadata": {},
     "source": [
      "Great! With six lines of code, we've officially created a function that improves on the one provided by NLTK! And think how easy it would be to add more functionality: an argument dictating the size of the window (currently 30 characters), or printing line numbers beside matches, would be pretty easy to add, as well.\n",
      "\n",
      "> Adding too much functionality is known as *feature creep*. It's often best to keep your functions simple and more varied. An old adage in programming is to *make each program do one thing well*."
     ]
    },
    {
     "cell_type": "markdown",
     "metadata": {},
     "source": [
      "In the cells below, try concordancing a few things. Also try creating variables with concordance results, and then manipulate the lists. If you encounter problems with the way the concordancer runs, alter the function and redefine it. If you want, try implementing the window size variable!\n",
      "\n",
      "> **Tip:** If you wanted to get really creative, you could try stemming concordance or n-gram results!"
     ]
    },
    {
     "cell_type": "code",
     "collapsed": false,
     "input": [
      ""
     ],
     "language": "python",
     "metadata": {},
     "outputs": []
    },
    {
     "cell_type": "code",
     "collapsed": false,
     "input": [
      ""
     ],
     "language": "python",
     "metadata": {},
     "outputs": []
    },
    {
     "cell_type": "code",
     "collapsed": false,
     "input": [
      ""
     ],
     "language": "python",
     "metadata": {},
     "outputs": []
    },
    {
     "cell_type": "code",
     "collapsed": false,
     "input": [
      ""
     ],
     "language": "python",
     "metadata": {},
     "outputs": []
    },
    {
     "cell_type": "code",
     "collapsed": false,
     "input": [
      ""
     ],
     "language": "python",
     "metadata": {},
     "outputs": []
    },
    {
     "cell_type": "heading",
     "level": 2,
     "metadata": {},
     "source": [
      "Summary"
     ]
    },
    {
     "cell_type": "markdown",
     "metadata": {},
     "source": [
      "That's the end of session three! Great work.\n",
      "\n",
      "So, some of these tasks are a little dry---seeing results as lists of words and scores isn't always a lot of fun. But ultimately, they're pretty important things to know if you want to avoid the 'black box approach', where you simply dump words into a machine and analyse what the machine spits out.\n",
      "\n",
      "Remember that almost every task in corpus linguistics/distance reading depends on how we segment our data into sentences, clauses, words, etc.\n",
      "\n",
      "Building a stemmer from scratch taught us how to use regular expressions, and their power. But, we also saw that they weren't perfect for the task. In later lessons, we'll use more advanced methods to normalise our data. \n",
      "\n",
      "*See you tomorrow!*"
     ]
    },
    {
     "cell_type": "heading",
     "level": 1,
     "metadata": {},
     "source": [
      "Bibliography"
     ]
    },
    {
     "cell_type": "markdown",
     "metadata": {},
     "source": [
      "<a id=\"ref:baker\"></a>\n",
      "Baker, P., Gabrielatos, C., Khosravinik, M., Krzyzanowski, M., McEnery, T., & Wodak, R. (2008). A useful methodological synergy? Combining critical discourse analysis and corpus linguistics to examine discourses of refugees and asylum seekers in the UK press. Discourse & Society, 19(3), 273-306.\n",
      "\n",
      "<a id=\"firth\"></a>\n",
      "Firth, J. (1957).  *A Synopsis of Linguistic Theory 1930-1955*. In: Studies in Linguistic Analysis, Philological Society, Oxford; reprinted in Palmer, F. (ed.) 1968 Selected Papers of J. R. Firth, Longman, Harlow.\n",
      "\n",
      "<a id=\"ref:hymes\"></a>\n",
      "Hymes, D. (1972). On communicative competence. In J. Pride & J. Holmes (Eds.), Sociolinguistics (pp. 269-293). Harmondsworth: Penguin Books. Retrieved from [http://humanidades.uprrp.edu/smjeg/reserva/Estudios%20Hispanicos/espa3246/Prof%20Sunny%20Cabrera/ESPA%203246%20-%20On%20Communicative%20Competence%20p%2053-73.pdf](http://humanidades.uprrp.edu/smjeg/reserva/Estudios%20Hispanicos/espa3246/Prof%20Sunny%20Cabrera/ESPA%203246%20-%20On%20Communicative%20Competence%20p%2053-73.pdf)\n",
      "\n",
      "<a id=\"ref:widdowson\"></a>\n",
      "Widdowson, H. G. (2000). On the limitations of linguistics applied. Applied Linguistics, 21(1), 3. Available at [http://applij.oxfordjournals.org/content/21/1/3.short](http://applij.oxfordjournals.org/content/21/1/3.short)."
     ]
    },
    {
     "cell_type": "heading",
     "level": 3,
     "metadata": {},
     "source": [
      "Workspace"
     ]
    },
    {
     "cell_type": "markdown",
     "metadata": {},
     "source": [
      "Here are a few blank cells, in case you need them for anything:"
     ]
    },
    {
     "cell_type": "code",
     "collapsed": false,
     "input": [
      "# "
     ],
     "language": "python",
     "metadata": {},
     "outputs": []
    },
    {
     "cell_type": "code",
     "collapsed": false,
     "input": [
      ""
     ],
     "language": "python",
     "metadata": {},
     "outputs": []
    },
    {
     "cell_type": "code",
     "collapsed": false,
     "input": [
      ""
     ],
     "language": "python",
     "metadata": {},
     "outputs": []
    },
    {
     "cell_type": "code",
     "collapsed": false,
     "input": [
      ""
     ],
     "language": "python",
     "metadata": {},
     "outputs": []
    },
    {
     "cell_type": "code",
     "collapsed": false,
     "input": [
      ""
     ],
     "language": "python",
     "metadata": {},
     "outputs": []
    },
    {
     "cell_type": "code",
     "collapsed": false,
     "input": [
      ""
     ],
     "language": "python",
     "metadata": {},
     "outputs": []
    },
    {
     "cell_type": "code",
     "collapsed": false,
     "input": [
      ""
     ],
     "language": "python",
     "metadata": {},
     "outputs": []
    },
    {
     "cell_type": "code",
     "collapsed": false,
     "input": [
      ""
     ],
     "language": "python",
     "metadata": {},
     "outputs": []
    },
    {
     "cell_type": "code",
     "collapsed": false,
     "input": [
      ""
     ],
     "language": "python",
     "metadata": {},
     "outputs": []
    },
    {
     "cell_type": "code",
     "collapsed": false,
     "input": [
      ""
     ],
     "language": "python",
     "metadata": {},
     "outputs": []
    },
    {
     "cell_type": "code",
     "collapsed": false,
     "input": [
      ""
     ],
     "language": "python",
     "metadata": {},
     "outputs": []
    }
   ],
   "metadata": {}
  }
 ]
}