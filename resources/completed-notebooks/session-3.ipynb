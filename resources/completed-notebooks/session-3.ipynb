{
 "cells": [
  {
   "cell_type": "markdown",
   "metadata": {},
   "source": [
    "<br>\n",
    "<img style=\"float:left\" src=\"http://ipython.org/_static/IPy_header.png\" />\n",
    "<br>"
   ]
  },
  {
   "cell_type": "markdown",
   "metadata": {},
   "source": [
    "# Session 3: Charting change in Fraser's speeches"
   ]
  },
  {
   "cell_type": "markdown",
   "metadata": {},
   "source": [
    "In this lesson, we investigate a fully-parsed version of the Fraser Corpus. We do this using purpose-built tools.\n",
    "\n",
    "In the first part of the session, we will go through how to use each of the tools. Later, you'll be able to use the tools to navigate the data and visualise results in any way you like.\n",
    "\n",
    "The Fraser Speeches have been parsed for part of speech and grammatical structure by [*Stanford CoreNLP*](http://nlp.stanford.edu/software/corenlp.shtml), a parser that can be loaded within NLTK. We rely on [*Tregex*](http://nlp.stanford.edu/~manning/courses/ling289/Tregex.html) to interrogate the parse trees. Tregex allows very complex searching of parsed trees, in combination with [Java Regular Expressions](http://docs.oracle.com/javase/7/docs/api/java/util/regex/Pattern.html), which are very similar to the regexes we've been using thus far.\n",
    "\n",
    "If you plan to work more with parsed corpora later, it's definitely worthwhile to learn the Tregex syntax in detail. For now, though, we'll use simple queries, and explain the query construction syntax as we go.\n",
    "\n",
    "Before we get started, we have to install Java, as some of our tools rely on some Java code. You'll very likely have Java installed on your local machine, but we need it on the cloud. To make it work, you should run the following line of code in the cloud Terminal:\n",
    "\n",
    "     sudo yum install java"
   ]
  },
  {
   "cell_type": "markdown",
   "metadata": {},
   "source": [
    "OK, that's out of the way. Next, let's import the functions we'll be using to investigate the corpus. These functions have been designed specifically for our investigation, but they will work with any parsed dataset.\n",
    "\n",
    "We'll take a look at the code used in this session a little later on, if there's time. Much of the code is derived from things we've learned here, combined with a lot of Google and Stack Overflow searching. All our code is on GitHub too, remember. It's open-source, so you can do whatever you like with it.\n",
    "\n",
    "Here's an overview of the functions we'll be using, and their purpose:\n",
    "\n",
    "| **Function name** | Purpose                            | |\n",
    "| ----------------- | ---------------------------------- | |\n",
    "| *searchtree()*  | find things in a parse tree         | |\n",
    "| *interrogator()*  | interrogate parsed corpora         | |\n",
    "| *plotter()*       | visualise *interrogator()* results | |\n",
    "| *quickview()*     | view *interrogator()* results      | |\n",
    "| *tally()*       | get total frequencies for *interrogator()* results      | |\n",
    "| *surgeon()*       | edit *interrogator()* results      | |\n",
    "| *merger()*       | merge *interrogator()* results      | |\n",
    "| *conc()*          | complex concordancing of subcopora | |\n",
    "\n",
    "We can import them using IPython Magic:"
   ]
  },
  {
   "cell_type": "code",
   "execution_count": null,
   "metadata": {
    "collapsed": false
   },
   "outputs": [],
   "source": [
    "import os # for joining paths\n",
    "from IPython.display import display, clear_output # for clearing huge lists of output\n",
    "# import functions to be used here:\n",
    "%run corpling_tools/interrogator.ipy\n",
    "%run corpling_tools/resbazplotter.ipy\n",
    "%run corpling_tools/additional_tools.ipy"
   ]
  },
  {
   "cell_type": "markdown",
   "metadata": {},
   "source": [
    "We also need to set the path to our corpus as a variable. If you were using this interface for your own corpora, you would change this to the path to your data."
   ]
  },
  {
   "cell_type": "code",
   "execution_count": null,
   "metadata": {
    "collapsed": false
   },
   "outputs": [],
   "source": [
    "path = 'corpora/fraser-corpus-annotated' # path to corpora from our current working directory."
   ]
  },
  {
   "cell_type": "markdown",
   "metadata": {},
   "source": [
    "### Interrogating the corpus"
   ]
  },
  {
   "cell_type": "markdown",
   "metadata": {},
   "source": [
    "To interrogate the corpus, we need a crash course in parse labels and Tregex syntax. Let's define a tree (from the Fraser Corpus, 1956), and have a look at its visual representation.\n",
    "\n",
    "     Melbourne has been transformed over the let 18 months in preparation for the visitors."
   ]
  },
  {
   "cell_type": "code",
   "execution_count": null,
   "metadata": {
    "collapsed": false
   },
   "outputs": [],
   "source": [
    "melbtree = (r'(ROOT (S (NP (NNP Melbourne)) (VP (VBZ has) (VP (VBN been) (VP (VBN transformed) '\n",
    "           r'(PP (IN over) (NP (NP (DT the) (VBN let) (CD 18) (NNS months)) (PP (IN in) (NP (NP (NN preparation)) '\n",
    "           r'(PP (IN for) (NP (DT the) (NNS visitors)))))))))) (. .)))')"
   ]
  },
  {
   "cell_type": "markdown",
   "metadata": {},
   "source": [
    "Notice that an OCR error caused a parsing error. Oh well. Here's a visual representation, drawn with NLTK:\n",
    "\n",
    "<br>\n",
    "<img style=\"float:left\" src=\"https://raw.githubusercontent.com/resbaz/lessons/master/nltk/images/melbtree.png\" />\n",
    "<br>"
   ]
  },
  {
   "cell_type": "markdown",
   "metadata": {},
   "source": [
    "The data is annotated at word, phrase and clause level. Embedded here is an elaboration of the meanings of tags *(ask Daniel if you need some clarification!)*:"
   ]
  },
  {
   "cell_type": "code",
   "execution_count": null,
   "metadata": {
    "collapsed": false
   },
   "outputs": [],
   "source": [
    "HTML('<iframe src=http://www.surdeanu.info/mihai/teaching/ista555-fall13/readings/PennTreebankConstituents.html width=700 height=350></iframe>')"
   ]
  },
  {
   "cell_type": "markdown",
   "metadata": {},
   "source": [
    "Note that the tags are a little bit different from the last parser we were using:"
   ]
  },
  {
   "cell_type": "code",
   "execution_count": null,
   "metadata": {
    "collapsed": false
   },
   "outputs": [],
   "source": [
    "quicktree(\"Melbourne has been transformed over the let 18 months in preparation for the visitors\")"
   ]
  },
  {
   "cell_type": "markdown",
   "metadata": {},
   "source": [
    "Neither parse is perfect, but the one we just generated has a major flaw: *Melbourne* is parsed as an adverb! Stanford CoreNLP correctly identifies it as a proper noun, and also, did a better job of handling the 'let' mistake."
   ]
  },
  {
   "cell_type": "markdown",
   "metadata": {},
   "source": [
    "*searchtree()* is a tiny function that searches a syntax tree. We'll use the sample sentence and *searchtree()* to practice our Tregex queries. We can feed it either *tags* (S, NP, VBZ, DT, etc.) or *tokens* enclosed in forward slashes."
   ]
  },
  {
   "cell_type": "code",
   "execution_count": null,
   "metadata": {
    "collapsed": false
   },
   "outputs": [],
   "source": [
    "# any plural noun\n",
    "query = r'NNS'\n",
    "searchtree(melbtree, query)"
   ]
  },
  {
   "cell_type": "code",
   "execution_count": null,
   "metadata": {
    "collapsed": false
   },
   "outputs": [],
   "source": [
    "# A token matching the regex *Melb.?\\**\n",
    "query = r'/Melb.?/'\n",
    "searchtree(melbtree, query)"
   ]
  },
  {
   "cell_type": "code",
   "execution_count": null,
   "metadata": {
    "collapsed": false
   },
   "outputs": [],
   "source": [
    "query = r'NP'\n",
    "searchtree(melbtree, query)"
   ]
  },
  {
   "cell_type": "markdown",
   "metadata": {},
   "source": [
    "To make things more specific, we can create queries with multiple criteria to match, and specify the relationship between each criterion we want to match. Tregex will print everything matching **the leftmost criterion**."
   ]
  },
  {
   "cell_type": "code",
   "execution_count": null,
   "metadata": {
    "collapsed": false
   },
   "outputs": [],
   "source": [
    "# NP with 18 as a descendent\n",
    "query = r'NP << /18/'\n",
    "searchtree(melbtree, query)"
   ]
  },
  {
   "cell_type": "markdown",
   "metadata": {},
   "source": [
    "Using an exclamation mark negates the relationship. Try producing a query for a *noun phrase* (NP) without a *Melb* descendent:"
   ]
  },
  {
   "cell_type": "code",
   "execution_count": null,
   "metadata": {
    "collapsed": false
   },
   "outputs": [],
   "source": [
    "query = r'NP !<< /Melb.?/'\n",
    "searchtree(melbtree, query)"
   ]
  },
  {
   "cell_type": "markdown",
   "metadata": {},
   "source": [
    "The dollar specifies a sibling relationship between two parts of the tree---that is, two words or tags that are horizontally aligned."
   ]
  },
  {
   "cell_type": "code",
   "execution_count": null,
   "metadata": {
    "collapsed": false
   },
   "outputs": [],
   "source": [
    "# NP with a sister VP\n",
    "# This corresponds to 'subject' in many grammars\n",
    "query = r'NP $ VP'\n",
    "searchtree(melbtree, query)"
   ]
  },
  {
   "cell_type": "markdown",
   "metadata": {},
   "source": [
    "Try changing the **more than** symbols to **less than**, and see how it affects the results."
   ]
  },
  {
   "cell_type": "code",
   "execution_count": null,
   "metadata": {
    "collapsed": false
   },
   "outputs": [],
   "source": [
    "# Prepositional phrase in other prepositional phrases\n",
    "query = r'PP >> PP'\n",
    "searchtree(melbtree, query)"
   ]
  },
  {
   "cell_type": "markdown",
   "metadata": {},
   "source": [
    "There is also a double underscore, which functions as a wildcard."
   ]
  },
  {
   "cell_type": "code",
   "execution_count": null,
   "metadata": {
    "collapsed": false
   },
   "outputs": [],
   "source": [
    "# anything with any kind of noun tag\n",
    "query = r'__ > /NN.?/'\n",
    "searchtree(melbtree, query)"
   ]
  },
  {
   "cell_type": "markdown",
   "metadata": {},
   "source": [
    "Using brackets, it's possible to create very verbose queries, though this goes well beyond our scope. Just know that it can be done!"
   ]
  },
  {
   "cell_type": "code",
   "execution_count": null,
   "metadata": {
    "collapsed": false
   },
   "outputs": [],
   "source": [
    "# particle verb in verb phrase with np sister headed by Melb.\n",
    "# the particle verb must also be in a verb phrase with a child preposition phrase\n",
    "# and this child preposition phrase must be headed by the preposition 'over'.\n",
    "query = r'VBN >> (VP $ (NP <<# /Melb.?/)) > (VP < (PP <<# (IN < /over/)))'\n",
    "searchtree(melbtree, query)"
   ]
  },
  {
   "cell_type": "markdown",
   "metadata": {},
   "source": [
    "Here are two more trees for you to query, from 1969 and 1973.\n",
    "\n",
    "     We continue to place a high value on economic aid through the Colombo Plan, involving considerable aid to Asian students in Australia."
   ]
  },
  {
   "cell_type": "markdown",
   "metadata": {},
   "source": [
    "<br>\n",
    "<img style=\"float:left\" src=\"https://raw.githubusercontent.com/resbaz/lessons/master/nltk/images/colombotree.png\" />\n",
    "<br>"
   ]
  },
  {
   "cell_type": "code",
   "execution_count": null,
   "metadata": {
    "collapsed": false
   },
   "outputs": [],
   "source": [
    "colombotree = r'(ROOT (S (NP (PRP We)) (VP (VBP continue) (S (VP (TO to) (VP (VB place) (NP (NP (DT a) (JJ high) '\n",
    "    r'(NN value)) (PP (IN on) (NP (JJ economic) (NN aid)))) (PP (IN through) (NP (DT the) (NNP Colombo) (NNP Plan))) '\n",
    "    r'(, ,) (S (VP (VBG involving) (NP (JJ considerable) (NN aid)) (PP (TO to) (NP (NP (JJ Asian) (NNS students)) \n",
    "        r'(PP (IN in) (NP (NNP Australia))))))))))) (. .)))'"
   ]
  },
  {
   "cell_type": "markdown",
   "metadata": {},
   "source": [
    "     As a result, wool industry and the research bodies are in a state of wonder and doubt about the future."
   ]
  },
  {
   "cell_type": "markdown",
   "metadata": {},
   "source": [
    "<br>\n",
    "<img style=\"float:left\" src=\"https://raw.githubusercontent.com/resbaz/lessons/master/nltk/images/wooltree.png\" />\n",
    "<br>"
   ]
  },
  {
   "cell_type": "code",
   "execution_count": null,
   "metadata": {
    "collapsed": false
   },
   "outputs": [],
   "source": [
    "wooltree = r'(ROOT (S (PP (IN As) (NP (DT a) (NN result))) (, ,) (NP (NP (NN wool) (NN industry)) (CC and) '\n",
    "                 r'(NP (DT the) (NN research) (NNS bodies))) (VP (VBP are) (PP (IN in) (NP (NP (DT a) (NN state)) '\n",
    "                    r'(PP (IN of) (NP (NN wonder) (CC and) (NN doubt))))) (PP (IN about) (NP (DT the) (NN future)))) (. .)))'"
   ]
  },
  {
   "cell_type": "markdown",
   "metadata": {},
   "source": [
    "Try a few queries in the cells below.\n",
    "\n",
    "> If you need help constructing a Tregex query, ask Daniel. He writes them all day long for fun."
   ]
  },
  {
   "cell_type": "code",
   "execution_count": null,
   "metadata": {
    "collapsed": false
   },
   "outputs": [],
   "source": [
    "query = '?'\n",
    "searchtree(colombotree, query)"
   ]
  },
  {
   "cell_type": "code",
   "execution_count": null,
   "metadata": {
    "collapsed": false
   },
   "outputs": [],
   "source": [
    "# "
   ]
  },
  {
   "cell_type": "code",
   "execution_count": null,
   "metadata": {
    "collapsed": false
   },
   "outputs": [],
   "source": [
    "#"
   ]
  },
  {
   "cell_type": "code",
   "execution_count": null,
   "metadata": {
    "collapsed": false
   },
   "outputs": [],
   "source": [
    "#"
   ]
  },
  {
   "cell_type": "markdown",
   "metadata": {},
   "source": [
    "So, now we understand the basics of a Tregex query (don't worry---many queries have already been written for you. We can start our investigation of the Fraser Corpus by generating some general information about it. First, let's define a query to find every word in the corpus. Run the cell below to define the *allwords_query* as the Tregex query.\n",
    "\n",
    "> *When writing Tregex queries or Regular Expressions, remember to always use **r'...'** quotes!*"
   ]
  },
  {
   "cell_type": "code",
   "execution_count": null,
   "metadata": {
    "collapsed": false
   },
   "outputs": [],
   "source": [
    "# any token containing letters or numbers (i.e. no punctuation):\n",
    "# we specify here that it cannot have any descendants,\n",
    "# just to be sure we only get tokens, not tags.\n",
    "allwords_query = r'/[A-Za-z0-9]/ !< __' "
   ]
  },
  {
   "cell_type": "markdown",
   "metadata": {},
   "source": [
    "Next, we perform interrogations with *interrogator()*. Its most important arguments are:\n",
    "\n",
    "1. **path to corpus** (the *path* variable)\n",
    "\n",
    "2. Tregex **options**:\n",
    "  * **'-t'**: return only words\n",
    "  * **'-C'**: return a count of matches\n",
    "\n",
    "3. the **Tregex query**\n",
    "\n",
    "We only need to count tokens, so we can use the **-C** option (it's often faster than getting lists of matching tokens). The cell below will run *interrogator()* over each annual subcorpus and count the number of matches for the query."
   ]
  },
  {
   "cell_type": "code",
   "execution_count": null,
   "metadata": {
    "collapsed": false
   },
   "outputs": [],
   "source": [
    "allwords = interrogator(path, '-C', allwords_query) "
   ]
  },
  {
   "cell_type": "markdown",
   "metadata": {},
   "source": [
    "When the interrogation has finished, we can view the total counts by getting the *totals* branch of the *allwords* interrogation:"
   ]
  },
  {
   "cell_type": "code",
   "execution_count": null,
   "metadata": {
    "collapsed": false
   },
   "outputs": [],
   "source": [
    "# from the allwords results, print the totals\n",
    "print allwords.totals"
   ]
  },
  {
   "cell_type": "markdown",
   "metadata": {},
   "source": [
    "If you want to see the query and options that created the results, you can print the *query* branch."
   ]
  },
  {
   "cell_type": "code",
   "execution_count": null,
   "metadata": {
    "collapsed": false
   },
   "outputs": [],
   "source": [
    "print allwords.query"
   ]
  },
  {
   "cell_type": "markdown",
   "metadata": {},
   "source": [
    "### Plotting results"
   ]
  },
  {
   "cell_type": "markdown",
   "metadata": {},
   "source": [
    "Lists of years and totals are pretty dry. Luckily, we can use the *plotter()* function to visualise our results. At minimum, *plotter()* needs two arguments:\n",
    "\n",
    "1. a title (in quotation marks)\n",
    "2. a list of results to plot"
   ]
  },
  {
   "cell_type": "code",
   "execution_count": null,
   "metadata": {
    "collapsed": false
   },
   "outputs": [],
   "source": [
    "plotter('Word counts in each subcorpus', allwords.totals)"
   ]
  },
  {
   "cell_type": "markdown",
   "metadata": {},
   "source": [
    "Great! So, we can see that the number of words per year varies quite a lot. That's worth keeping in mind.\n",
    "\n",
    "Next, let's plot something more specific, using the **-t** option."
   ]
  },
  {
   "cell_type": "code",
   "execution_count": null,
   "metadata": {
    "collapsed": false
   },
   "outputs": [],
   "source": [
    "query = r'/(?i)\\baustral.?/' # australia, australian, australians, etc.\n",
    "aust = interrogator(path, '-t', query) # -t option to get matching words, not just count"
   ]
  },
  {
   "cell_type": "markdown",
   "metadata": {},
   "source": [
    "We now have a list of words matching the query stores in the *aust* variable's *results* branch:"
   ]
  },
  {
   "cell_type": "code",
   "execution_count": null,
   "metadata": {
    "collapsed": false
   },
   "outputs": [],
   "source": [
    "aust.results[:3] # just the first few entries"
   ]
  },
  {
   "cell_type": "markdown",
   "metadata": {},
   "source": [
    "*Your turn!* Try this exercise again with a different term. "
   ]
  },
  {
   "cell_type": "markdown",
   "metadata": {},
   "source": [
    "We can use a *fract_of* argument to plot our results as a percentage of something else. This helps us deal with the issue of different amounts of data per year."
   ]
  },
  {
   "cell_type": "code",
   "execution_count": null,
   "metadata": {
    "collapsed": false
   },
   "outputs": [],
   "source": [
    "# as a percentage of all aust* words:\n",
    "plotter('Austral*', aust.results, fract_of = aust.totals)\n",
    "# as a percentage of all words (using our previous interrogation)\n",
    "plotter('Austral*', aust.results, fract_of = allwords.totals)"
   ]
  },
  {
   "cell_type": "markdown",
   "metadata": {},
   "source": [
    "Great! So, we now have a basic understanding of the *interrogator()* and *plotter()* functions."
   ]
  },
  {
   "cell_type": "markdown",
   "metadata": {},
   "source": [
    "### Customising visualisations"
   ]
  },
  {
   "cell_type": "markdown",
   "metadata": {},
   "source": [
    "By default, *plotter()* plots the absolute frequency of the seven most frequent results.\n",
    "\n",
    " We can use other *plotter()* arguments to customise what our chart shows. *plotter()*'s possible arguments are:\n",
    "\n",
    " | plotter() argument | Mandatory/default?       |  Use          | Type  |\n",
    " | :------|:------- |:-------------|:-----|\n",
    " | *title* | **mandatory**      | A title for your plot | string |\n",
    " | *results* | **mandatory**      | the results you want to plot | *interrogator()* total |\n",
    " | *fract_of* | None      | results for plotting relative frequencies/ratios etc. | list (interrogator(-C) form) |\n",
    " | *num_to_plot* | 7     | number of top results to display     |   integer |\n",
    " | *multiplier* | 100     | result * multiplier / total: use 1 for ratios | integer |\n",
    " | *x_label* | False    | custom label for the x-axis     |  string |\n",
    " | *y_label* | False    | custom label for the y-axis     |  string |\n",
    " | *yearspan* | False    | plot a span of years |  a list of two int years |\n",
    " | *justyears* | False    | plot specific years |  a list of int years |\n",
    " | *csvmake* | False    | make csvmake the title of csv output file    |  string |\n",
    "\n",
    "You can easily use these to get different kinds of output. Try changing some parameters below:"
   ]
  },
  {
   "cell_type": "code",
   "execution_count": null,
   "metadata": {
    "collapsed": false
   },
   "outputs": [],
   "source": [
    "# maybe we want to get rid of all those non-words?\n",
    "plotter('Austral*', aust.results, fract_of = allwords.totals, num_to_plot = 3, y_label = 'Percentage of all words')"
   ]
  },
  {
   "cell_type": "code",
   "execution_count": null,
   "metadata": {
    "collapsed": false
   },
   "outputs": [],
   "source": [
    "# or see only the 1960s?\n",
    "plotter('Austral*', aust.results, fract_of = allwords.totals, num_to_plot = 3, yearspan = [1960,1969])"
   ]
  },
  {
   "cell_type": "markdown",
   "metadata": {},
   "source": [
    "**Your Turn**: mess with these variables, and see what you can plot. Try using some really infrequent results, if you like!"
   ]
  },
  {
   "cell_type": "code",
   "execution_count": null,
   "metadata": {
    "collapsed": false
   },
   "outputs": [],
   "source": [
    "#"
   ]
  },
  {
   "cell_type": "code",
   "execution_count": null,
   "metadata": {
    "collapsed": false
   },
   "outputs": [],
   "source": [
    "#"
   ]
  },
  {
   "cell_type": "markdown",
   "metadata": {},
   "source": [
    "### Viewing and editing results"
   ]
  },
  {
   "cell_type": "markdown",
   "metadata": {},
   "source": [
    "Aside from *interrogator()* and *plotter()*, there are also a few simple functions for viewing and editing results."
   ]
  },
  {
   "cell_type": "markdown",
   "metadata": {},
   "source": [
    "#### quickview()"
   ]
  },
  {
   "cell_type": "markdown",
   "metadata": {},
   "source": [
    "*quickview()* is a function that quickly shows the n most frequent items in a list. Its arguments are:\n",
    "\n",
    "1. an *interrogator()* result\n",
    "2. number of results to show (default = 50)\n",
    "\n",
    "We can see the full glory of bad OCR here:"
   ]
  },
  {
   "cell_type": "code",
   "execution_count": null,
   "metadata": {
    "collapsed": false
   },
   "outputs": [],
   "source": [
    "quickview(aust.results, n = 20)"
   ]
  },
  {
   "cell_type": "markdown",
   "metadata": {},
   "source": [
    "The number shown next to the item is its index. You can use this number to refer to an entry when editing results."
   ]
  },
  {
   "cell_type": "markdown",
   "metadata": {},
   "source": [
    "#### tally()"
   ]
  },
  {
   "cell_type": "markdown",
   "metadata": {},
   "source": [
    "*tally()* displays the total occurrences of results. Its first argument is the list you want tallies from. For its second argument, you can use:\n",
    "\n",
    "* a list of indices for results you want to tally\n",
    "* a single integer, which will be interpreted as the index of the item you want\n",
    "* a string, 'all', which will tally every result. This could be very many results, so it may be worth limiting the number of items you pass to it with [:n],"
   ]
  },
  {
   "cell_type": "code",
   "execution_count": null,
   "metadata": {
    "collapsed": false
   },
   "outputs": [],
   "source": [
    "tally(aust.results, [0, 3])"
   ]
  },
  {
   "cell_type": "markdown",
   "metadata": {},
   "source": [
    "**Your turn**: Use 'all' to tally the result for the first 11 items in aust.results"
   ]
  },
  {
   "cell_type": "code",
   "execution_count": null,
   "metadata": {
    "collapsed": false
   },
   "outputs": [],
   "source": [
    "tally(aust.results[:10], 'all')"
   ]
  },
  {
   "cell_type": "markdown",
   "metadata": {},
   "source": [
    "#### surgeon()"
   ]
  },
  {
   "cell_type": "markdown",
   "metadata": {},
   "source": [
    "Results lists can be edited quickly with *surgeon()*. *surgeon()*'s arguments are:\n",
    "\n",
    "1. an *interrogator()* results list\n",
    "2. *criteria*: either a regex or a list of indices.\n",
    "3. *remove = True/False*\n",
    "\n",
    "By default, *surgeon()* removes anything matching the regex/indices criteria, but this can be inverted with a *remove = False* argument. Because you are duplicating the original list, you don't have to worry about deleting *interrogator()* results.\n",
    "\n",
    "We can use it to remove some obvious non-words."
   ]
  },
  {
   "cell_type": "code",
   "execution_count": null,
   "metadata": {
    "collapsed": false
   },
   "outputs": [],
   "source": [
    "non_words_removed = surgeon(aust.results, [5, 9], remove = True)\n",
    "plotter('Some non-words removed', non_words_removed, fract_of = allwords.totals)"
   ]
  },
  {
   "cell_type": "markdown",
   "metadata": {},
   "source": [
    "Note that you do not access surgeon lists with *aust.non_words_removed* syntax, but simply with *non_words_removed*."
   ]
  },
  {
   "cell_type": "markdown",
   "metadata": {},
   "source": [
    "#### merger()"
   ]
  },
  {
   "cell_type": "markdown",
   "metadata": {},
   "source": [
    "*merger()* is for merging items in a list. Like *surgeon()*, it duplicates the old list. Its arguments are:\n",
    "\n",
    "1. the list you want to modify\n",
    "2. the indices of results you want to merge, or a regex to match\n",
    "3. newname = *str/int/False*: \n",
    "  * if string, the string becomes the merged item name.\n",
    "  * if integer, the merged entry takes the name of the item indexed with the integer.\n",
    "  * if not specified/False, the most most frequent item in the list becomes the name.\n",
    "\n",
    "In our case, we might want to collapse *Australian* and *Australians*, because the latter is simply the plural of the former."
   ]
  },
  {
   "cell_type": "code",
   "execution_count": null,
   "metadata": {
    "collapsed": false
   },
   "outputs": [],
   "source": [
    "# before:\n",
    "plotter('Before merging Australian and Australians', aust.results, num_to_plot = 3)\n",
    "# after:\n",
    "merged = merger(aust.results, [1, 2],  newname = 'australian(s)')\n",
    "plotter('After merging Australian and Australians', merged, num_to_plot = 2)"
   ]
  },
  {
   "cell_type": "markdown",
   "metadata": {},
   "source": [
    "#### conc()"
   ]
  },
  {
   "cell_type": "markdown",
   "metadata": {},
   "source": [
    "The final function is *conc()*, which produces concordances of a subcorpus based on a Tregex query. Its main arguments are:\n",
    "\n",
    "1. A subcorpus to search *(remember to put it in quotation marks!)*\n",
    "2. A Tregex query"
   ]
  },
  {
   "cell_type": "code",
   "execution_count": null,
   "metadata": {
    "collapsed": false
   },
   "outputs": [],
   "source": [
    "# here, we use a subcorpus of politics articles,\n",
    "# rather than the total annual editions.\n",
    "conc(os.path.join(path,'1966'), r'/(?i)\\baustral.?/') # adj containing a risk word"
   ]
  },
  {
   "cell_type": "markdown",
   "metadata": {},
   "source": [
    "You can set *conc()* to print *n* random concordances with the *random = n* parameter. You can also store the output to a variable for further searching."
   ]
  },
  {
   "cell_type": "code",
   "execution_count": null,
   "metadata": {
    "collapsed": false
   },
   "outputs": [],
   "source": [
    "randoms = conc(os.path.join(path,'1963'), r'/(?i)\\baustral.?/', random = 5)\n",
    "randoms"
   ]
  },
  {
   "cell_type": "markdown",
   "metadata": {},
   "source": [
    "*conc()* takes another argument, window, which alters the amount of co-text appearing either side of the match."
   ]
  },
  {
   "cell_type": "code",
   "execution_count": null,
   "metadata": {
    "collapsed": false
   },
   "outputs": [],
   "source": [
    "conc(os.path.join(path,'1981'), r'/(?i)\\baustral.?/', random = 5, window = 50)"
   ]
  },
  {
   "cell_type": "markdown",
   "metadata": {},
   "source": [
    "*conc()* also allows you to view parse trees. By default, it's false:"
   ]
  },
  {
   "cell_type": "code",
   "execution_count": null,
   "metadata": {
    "collapsed": false
   },
   "outputs": [],
   "source": [
    "conc(os.path.join(path,'1954'), r'/(?i)\\baustral.?/', random = 5, window = 30, trees = True)\n",
    "\n",
    "# Now you're familiar with the corpus and functions, it's time to explore the corpus in a more structured way. To do this, we need a little bit of linguistic knowledge, however."
   ]
  },
  {
   "cell_type": "markdown",
   "metadata": {},
   "source": [
    "### Some linguistics..."
   ]
  },
  {
   "cell_type": "markdown",
   "metadata": {},
   "source": [
    "*Functional linguistics* is a research area concerned with how *realised language* (lexis and grammar) work to achieve meaningful social functions.\n",
    "\n",
    "One functional linguistic theory is *Systemic Functional Linguistics*, developed by Michael Halliday (Prof. Emeritus at University of Sydney).\n",
    "\n",
    "Central to the theory is a division between **experiential meanings** and **interpersonal meanings**.\n",
    "\n",
    "* Experiential meanings communicate what happened to whom, under what circumstances.\n",
    "* Interpersonal meanings negotiate identities and role relationships between speakers \n",
    "\n",
    "Halliday argues that these two kinds of meaning are realised **simultaneously** through different parts of English grammar.\n",
    "\n",
    "* Experiential meanings are made through **transitivity choices**.\n",
    "* Interpersonal meanings are made through **mood choices**\n",
    "\n",
    "Here's one visualisation of it. We're concerned with the two left-hand columns. Each level is an abstraction of the one below it.\n",
    "\n",
    "<br>\n",
    "<img style=\"float:left\" src=\"https://raw.githubusercontent.com/interrogator/sfl_corpling/master/cmc-2014/images/egginsfixed.jpg\" />\n",
    "<br>\n",
    "\n",
    "Transitivity choices include fitting together configurations of:\n",
    "\n",
    "* Participants (*a man, green bikes*)\n",
    "* Processes (*sleep, has always been, is considering*)\n",
    "* Circumstances (*on the weekend*, *in Australia*)\n",
    "\n",
    "Mood features of a language include:\n",
    "\n",
    "* Mood types (*declarative, interrogative, imperative*)\n",
    "* Modality (*would, can, might*)\n",
    "* Lexical density---the number of words per clause, the number of content to non-content words, etc.\n",
    "\n",
    "Lexical density is usually a good indicator of the general tone of texts. The language of academia, for example, often has a huge number of nouns to verbs. We can approximate an academic tone simply by making nominally dense clauses: \n",
    "\n",
    "      The consideration of interest is the potential for a participant of a certain demographic to be in Group A or Group B*.\n",
    "\n",
    "Notice how not only are there many nouns (*consideration*, *interest*, *potential*, etc.), but that the verbs are very simple (*is*, *to be*).\n",
    "\n",
    "In comparison, informal speech is characterised by smaller clauses, and thus more verbs.\n",
    "\n",
    "      A: Did you feel like dropping by?\n",
    "      B: I thought I did, but now I don't think I want to\n",
    "\n",
    "Here, we have only a few, simple nouns (*you*, *I*), with more expressive verbs (*feel*, *dropping by*, *think*, *want*)\n",
    "\n",
    "> **Note**: SFL argues that through *grammatical metaphor*, one linguistic feature can stand in for another. *Would you please shut the door?* is an interrogative, but it functions as a command. *invitation* is a nominalisation of a process, *invite*. We don't have time to deal with these kinds of realisations, unfortunately."
   ]
  },
  {
   "cell_type": "markdown",
   "metadata": {},
   "source": [
    "### Fraser's speeches and linguistic theory"
   ]
  },
  {
   "cell_type": "markdown",
   "metadata": {},
   "source": [
    "So, from an SFL perspective, when Malcolm Fraser gives a speech, he is simultaneously making meaning about events in the real world (through transitivity choices) and about his role and identity (through mood and modality choices).\n",
    "\n",
    "With this basic theory of language, we can create two research questions:\n",
    "\n",
    "1. **How does Malcolm Fraser's tone change over time?**\n",
    "2. **What are the major things being spoken about in Fraser's speeches, and how do they change?**\n",
    "\n",
    "As our corpus is well-structured and parsed, we can create queries to answer these questions, and then visualise the results."
   ]
  },
  {
   "cell_type": "markdown",
   "metadata": {},
   "source": [
    "#### Interpersonal features"
   ]
  },
  {
   "cell_type": "markdown",
   "metadata": {},
   "source": [
    "We'll start with interpersonal features of language in the corpus. First, we can devise a couple of simple metrics that can teach us about the interpersonal tone of Fraser's speeches over time. We don't have time to run all of these queries right now, but there should be some time later to explore the parts of this material that interest"
   ]
  },
  {
   "cell_type": "code",
   "execution_count": null,
   "metadata": {
    "collapsed": false
   },
   "outputs": [],
   "source": [
    "# number of content words per clause\n",
    "openwords = r'/\\b(JJ|NN|VB|RB)+.?\\b/'\n",
    "clauses = r'S < __'\n",
    "opencount = interrogator(path, '-C', openwords)\n",
    "clausecount = interrogator(path, '-C', clauses)"
   ]
  },
  {
   "cell_type": "code",
   "execution_count": null,
   "metadata": {
    "collapsed": false
   },
   "outputs": [],
   "source": [
    "plotter('Lexical density', opencount.totals, \n",
    "        fract_of = clausecount.totals, y_label = 'Lexical Density Score', multiplier = 1)"
   ]
  },
  {
   "cell_type": "markdown",
   "metadata": {},
   "source": [
    "We can also look at the use of modals auxiliaries (*would could, may, etc.*) over time. This can be interesting, as modality is responsible for communicating certainty, probability, obligation, etc.\n",
    "\n",
    "Modals are very easily and accurately located, as there are only a few possible words, and they occur in predicable places within clauses.\n",
    "\n",
    "Most grammars tag them with 'MD'.\n",
    "\n",
    "If modality interests you, later, it could be a good set of results to manipulate and plot."
   ]
  },
  {
   "cell_type": "code",
   "execution_count": null,
   "metadata": {
    "collapsed": false
   },
   "outputs": [],
   "source": [
    "query = r'MD < __'\n",
    "modals = interrogator(path, '-t', query)\n",
    "plotter('Modals', modals.results, fract_of = modals.totals)"
   ]
  },
  {
   "cell_type": "code",
   "execution_count": null,
   "metadata": {
    "collapsed": false
   },
   "outputs": [],
   "source": [
    "# percentage of tokens that are I/me\n",
    "query = r'/PRP.?/ < /(?i)^(i|me|my)$/'\n",
    "firstperson = interrogator(path, '-C', query)"
   ]
  },
  {
   "cell_type": "code",
   "execution_count": null,
   "metadata": {
    "collapsed": false
   },
   "outputs": [],
   "source": [
    "plotter('First person', firstperson.totals, fract_of = allwords.totals)"
   ]
  },
  {
   "cell_type": "code",
   "execution_count": null,
   "metadata": {
    "collapsed": false
   },
   "outputs": [],
   "source": [
    "# percentage of questions\n",
    "query = r'ROOT <<- /.?\\?.?/'\n",
    "questions = interrogator(path, '-C', query)"
   ]
  },
  {
   "cell_type": "code",
   "execution_count": null,
   "metadata": {
    "collapsed": false
   },
   "outputs": [],
   "source": [
    "plotter('Questions/all clauses', questions.totals, fract_of = clausecount.totals)"
   ]
  },
  {
   "cell_type": "code",
   "execution_count": null,
   "metadata": {
    "collapsed": false
   },
   "outputs": [],
   "source": [
    "# ratio of open/closed class words\n",
    "closedwords = r'/\\b(DT|IN|CC|EX|W|MD|TO|PRP)+.?\\b/'\n",
    "closedcount = interrogator(path, '-C', closedwords)"
   ]
  },
  {
   "cell_type": "code",
   "execution_count": null,
   "metadata": {
    "collapsed": false
   },
   "outputs": [],
   "source": [
    "plotter('Open/closed word classes', opencount.totals, \n",
    "        fract_of = closedcount.totals, y_label = 'Open/closed ratio', multiplier = 1)"
   ]
  },
  {
   "cell_type": "code",
   "execution_count": null,
   "metadata": {
    "collapsed": false
   },
   "outputs": [],
   "source": [
    "# ratio of nouns/verbs\n",
    "nouns = r'/NN.?/ < __'\n",
    "verbs = r'/VB.?/ < __'\n",
    "nouncount = interrogator(path, '-C', nouns)\n",
    "verbcount = interrogator(path, '-C', verbs)"
   ]
  },
  {
   "cell_type": "code",
   "execution_count": null,
   "metadata": {
    "collapsed": false
   },
   "outputs": [],
   "source": [
    "plotter('Noun/verb ratio', nouncount.totals, fract_of = verbcount.totals, multiplier = 1)"
   ]
  },
  {
   "cell_type": "markdown",
   "metadata": {},
   "source": [
    "#### Experiential features of Fraser's speech"
   ]
  },
  {
   "cell_type": "markdown",
   "metadata": {},
   "source": [
    "We now turn our attention to what is being spoken about in the corpus. First, we can get the heads of grammatical participants:"
   ]
  },
  {
   "cell_type": "code",
   "execution_count": null,
   "metadata": {
    "collapsed": false
   },
   "outputs": [],
   "source": [
    "# heads of participants (heads of NPS not in prepositional phrases)\n",
    "query = r'/NN.?/ >># (NP !> PP)'\n",
    "participants = interrogator(path, '-t', query, lemmatise = True)"
   ]
  },
  {
   "cell_type": "code",
   "execution_count": null,
   "metadata": {
    "collapsed": false
   },
   "outputs": [],
   "source": [
    "plotter('Participants', participants.results, fract_of = allwords.totals)"
   ]
  },
  {
   "cell_type": "markdown",
   "metadata": {},
   "source": [
    "Next, we can get the most common processes. That is, the rightmost verb in a verbal group (take a look at the visualised tree!)\n",
    "\n",
    "> *Be careful not to confuse grammatical labels (predicator, verb), with semantic labels (participant, process) ... *"
   ]
  },
  {
   "cell_type": "code",
   "execution_count": null,
   "metadata": {
    "collapsed": false
   },
   "outputs": [],
   "source": [
    "# most common processes\n",
    "query = r'/VB.?/ >># VP >+(VP) VP'\n",
    "processes = interrogator(path, '-t', query, lemmatise = True)"
   ]
  },
  {
   "cell_type": "code",
   "execution_count": null,
   "metadata": {
    "collapsed": false
   },
   "outputs": [],
   "source": [
    "plotter('Processes', processes.results[2:], fract_of = processes.totals)"
   ]
  },
  {
   "cell_type": "markdown",
   "metadata": {},
   "source": [
    "It seems that the verb *believe* is a common process in 1973. Try to run *conc()* in the cell below to look at the way the word behaves."
   ]
  },
  {
   "cell_type": "code",
   "execution_count": null,
   "metadata": {
    "collapsed": false
   },
   "outputs": [],
   "source": [
    "# write a call to conc() that gets concordances for r'/VB.?/ < /believe/ in 1973\n",
    "# conc('fraser-corpus-annotated/1973', r'/VB.?/ < /believe/)\n",
    "#"
   ]
  },
  {
   "cell_type": "markdown",
   "metadata": {},
   "source": [
    "For discussion: what events are being discussed when *believe* is the process? Why use *believe* here?\n",
    "<br>\n",
    "\n",
    "Next, let's chart noun phrases headed by a proper noun (*the Prime Minister*, *Sydney*, *John Howard*, etc.). We can define them like this:"
   ]
  },
  {
   "cell_type": "code",
   "execution_count": null,
   "metadata": {
    "collapsed": false
   },
   "outputs": [],
   "source": [
    "# any noun phrase headed by a proper noun\n",
    "pn_query = r'NP <# NNP'"
   ]
  },
  {
   "cell_type": "markdown",
   "metadata": {},
   "source": [
    "To make for more accurate results the *interrogator()* function has an option, *titlefilter*, which uses a regular expression to strip determiners (*a*, *an*, *the*, etc.), titles (*Mr*, *Mrs*, *Dr*, etc.) and first names from the results. This will ensure that the results for *Prime Minister* also include *the Prime Minister*, and *Fraser* results will include the *Malcolm* variety. The option is turned on in the cell below:"
   ]
  },
  {
   "cell_type": "code",
   "execution_count": null,
   "metadata": {
    "collapsed": false
   },
   "outputs": [],
   "source": [
    "# Proper noun groups\n",
    "propernouns = interrogator(path, '-t', pn_query, titlefilter = True)"
   ]
  },
  {
   "cell_type": "code",
   "execution_count": null,
   "metadata": {
    "collapsed": false
   },
   "outputs": [],
   "source": [
    "plotter('Proper noun groups', propernouns.results, fract_of = propernouns.totals, num_to_plot = 15)"
   ]
  },
  {
   "cell_type": "markdown",
   "metadata": {},
   "source": [
    "Proper nouns are a really good category to investigate further, as it is through proper nouns that we can track discussion of particular people, places or things. So, let's look at the top 100 results:"
   ]
  },
  {
   "cell_type": "code",
   "execution_count": null,
   "metadata": {
    "collapsed": false
   },
   "outputs": [],
   "source": [
    "quickview(propernouns.results, n = 100)"
   ]
  },
  {
   "cell_type": "markdown",
   "metadata": {},
   "source": [
    " You can now use the *merger()* and *surgeon()* options to make new lists to plot. Here's one example: we'll use *merger()* to merge places in Victoria, and then *surgeon()* to create a list of places in Australia."
   ]
  },
  {
   "cell_type": "code",
   "execution_count": null,
   "metadata": {
    "collapsed": false
   },
   "outputs": [],
   "source": [
    "merged = merger(propernouns.results, [9, 13, 27, 36, 78, 93], newname = 'places in victoria')\n",
    "quickview(merged, n = 100)\n",
    "\n",
    "ausparts = surgeon(merged, [7, 9, 23, 25, 33, 41, 49], remove = False)\n",
    "plotter('Places in Australia', ausparts, fract_of = propernouns.totals)"
   ]
  },
  {
   "cell_type": "markdown",
   "metadata": {},
   "source": [
    "Neat, eh? Well, that concludes the structured part of the lesson. You now have a bit of time to explore the corpus, using the tools provided. Below, for your convenience, is a table of the functions and their arguments.\n",
    "\n",
    "Particularly rewarding can be playing more with the proper nouns section, as in the cells above. Shout out if you find something interesting!"
   ]
  },
  {
   "cell_type": "markdown",
   "metadata": {},
   "source": [
    "<br>\n",
    "<img style=\"float:left\" src=\"https://raw.githubusercontent.com/resbaz/lessons/master/nltk/images/options.png\" />\n",
    "<br>"
   ]
  },
  {
   "cell_type": "code",
   "execution_count": null,
   "metadata": {
    "collapsed": false
   },
   "outputs": [],
   "source": [
    "#"
   ]
  },
  {
   "cell_type": "code",
   "execution_count": null,
   "metadata": {
    "collapsed": false
   },
   "outputs": [],
   "source": [
    "#"
   ]
  },
  {
   "cell_type": "code",
   "execution_count": null,
   "metadata": {
    "collapsed": false
   },
   "outputs": [],
   "source": [
    "#"
   ]
  },
  {
   "cell_type": "code",
   "execution_count": null,
   "metadata": {
    "collapsed": false
   },
   "outputs": [],
   "source": [
    "#"
   ]
  },
  {
   "cell_type": "code",
   "execution_count": null,
   "metadata": {
    "collapsed": false
   },
   "outputs": [],
   "source": [
    "#"
   ]
  },
  {
   "cell_type": "code",
   "execution_count": null,
   "metadata": {
    "collapsed": false
   },
   "outputs": [],
   "source": [
    "#"
   ]
  },
  {
   "cell_type": "code",
   "execution_count": null,
   "metadata": {
    "collapsed": false
   },
   "outputs": [],
   "source": [
    "#"
   ]
  },
  {
   "cell_type": "code",
   "execution_count": null,
   "metadata": {
    "collapsed": false
   },
   "outputs": [],
   "source": [
    "#"
   ]
  },
  {
   "cell_type": "code",
   "execution_count": null,
   "metadata": {
    "collapsed": false
   },
   "outputs": [],
   "source": [
    "#"
   ]
  },
  {
   "cell_type": "code",
   "execution_count": null,
   "metadata": {
    "collapsed": false
   },
   "outputs": [],
   "source": [
    "#"
   ]
  },
  {
   "cell_type": "markdown",
   "metadata": {},
   "source": [
    "By the way, here's the code behind some of the functions we've been using. With all your training, you can probably understand quite a bit of it!"
   ]
  },
  {
   "cell_type": "code",
   "execution_count": null,
   "metadata": {
    "collapsed": false
   },
   "outputs": [],
   "source": [
    "%load corpling_tools/additional_tools.ipy"
   ]
  }
 ],
 "metadata": {},
 "nbformat": 4,
 "nbformat_minor": 0
}